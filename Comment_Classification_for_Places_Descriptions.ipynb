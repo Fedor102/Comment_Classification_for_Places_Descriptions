{
  "cells": [
    {
      "cell_type": "markdown",
      "metadata": {
        "id": "view-in-github",
        "colab_type": "text"
      },
      "source": [
        "<a href=\"https://colab.research.google.com/github/Fedor102/Comment_Classification_for_Places_Descriptions/blob/main/Comment_Classification_for_Places_Descriptions.ipynb\" target=\"_parent\"><img src=\"https://colab.research.google.com/assets/colab-badge.svg\" alt=\"Open In Colab\"/></a>"
      ]
    },
    {
      "cell_type": "markdown",
      "metadata": {
        "id": "n7IAO78Y67mv"
      },
      "source": [
        "### Установка необходимых пакетов и импорт библиотек"
      ]
    },
    {
      "cell_type": "code",
      "execution_count": null,
      "metadata": {
        "colab": {
          "base_uri": "https://localhost:8080/"
        },
        "id": "NB_bWrMx-AaI",
        "outputId": "eda00049-6ac9-4c75-83ac-10686ee337a6"
      },
      "outputs": [
        {
          "output_type": "stream",
          "name": "stdout",
          "text": [
            "Requirement already satisfied: emoji==1.4.1 in /usr/local/lib/python3.10/dist-packages (1.4.1)\n",
            "Requirement already satisfied: imblearn in /usr/local/lib/python3.10/dist-packages (0.0)\n",
            "Requirement already satisfied: imbalanced-learn in /usr/local/lib/python3.10/dist-packages (from imblearn) (0.12.4)\n",
            "Requirement already satisfied: numpy>=1.17.3 in /usr/local/lib/python3.10/dist-packages (from imbalanced-learn->imblearn) (1.26.4)\n",
            "Requirement already satisfied: scipy>=1.5.0 in /usr/local/lib/python3.10/dist-packages (from imbalanced-learn->imblearn) (1.13.1)\n",
            "Requirement already satisfied: scikit-learn>=1.0.2 in /usr/local/lib/python3.10/dist-packages (from imbalanced-learn->imblearn) (1.5.2)\n",
            "Requirement already satisfied: joblib>=1.1.1 in /usr/local/lib/python3.10/dist-packages (from imbalanced-learn->imblearn) (1.4.2)\n",
            "Requirement already satisfied: threadpoolctl>=2.0.0 in /usr/local/lib/python3.10/dist-packages (from imbalanced-learn->imblearn) (3.5.0)\n"
          ]
        }
      ],
      "source": [
        "!pip install emoji==1.4.1\n",
        "!pip install imblearn"
      ]
    },
    {
      "cell_type": "markdown",
      "metadata": {
        "id": "DXa9S6hZ6764"
      },
      "source": [
        "Импортируем библиотеки:"
      ]
    },
    {
      "cell_type": "code",
      "execution_count": null,
      "metadata": {
        "colab": {
          "base_uri": "https://localhost:8080/",
          "height": 34
        },
        "id": "gJwDP7Hz-Mw1",
        "outputId": "7a385c56-038b-40f0-879e-6f30b493b254"
      },
      "outputs": [
        {
          "output_type": "display_data",
          "data": {
            "text/plain": [
              "<Figure size 640x480 with 0 Axes>"
            ]
          },
          "metadata": {}
        }
      ],
      "source": [
        "# Библиотека линейной алгебры\n",
        "import numpy as np\n",
        "\n",
        "# Работа с датафреймом\n",
        "import pandas as pd\n",
        "\n",
        "\n",
        "# Обработка данных\n",
        "import re, string\n",
        "import emoji\n",
        "import nltk\n",
        "from sklearn import preprocessing\n",
        "from imblearn.over_sampling import RandomOverSampler\n",
        "from sklearn.model_selection import train_test_split\n",
        "\n",
        "\n",
        "# Результаты BERT и roBert мы сравним с наивным байесовским классификатором\n",
        "from sklearn.feature_extraction.text import CountVectorizer\n",
        "from sklearn.feature_extraction.text import TfidfTransformer\n",
        "from sklearn.naive_bayes import MultinomialNB\n",
        "\n",
        "# Токены и модели из библиотеки transformers\n",
        "from transformers import BertTokenizerFast\n",
        "from transformers import TFBertModel\n",
        "from transformers import RobertaTokenizerFast\n",
        "from transformers import TFRobertaModel\n",
        "\n",
        "# Keras\n",
        "import tensorflow as tf\n",
        "from tensorflow import keras\n",
        "\n",
        "# Метрики\n",
        "from sklearn.metrics import accuracy_score, f1_score\n",
        "from sklearn.metrics import classification_report, confusion_matrix\n",
        "\n",
        "# Для воспроизводимости результатов\n",
        "seed=42\n",
        "\n",
        "# Настройка стилей для графиков\n",
        "import matplotlib.pyplot as plt\n",
        "import seaborn as sns\n",
        "sns.set_style(\"whitegrid\")\n",
        "sns.despine()\n",
        "plt.rc(\"figure\", autolayout=True)\n",
        "plt.rc(\"axes\", labelweight=\"bold\", labelsize=\"large\", titleweight=\"bold\", titlepad=10)\n",
        "\n",
        "# Отключим мешаюшие предупреждения\n",
        "import warnings\n",
        "warnings.filterwarnings(\"ignore\")"
      ]
    },
    {
      "cell_type": "markdown",
      "metadata": {
        "id": "tVvCGv4pArKV"
      },
      "source": [
        "# Вспомогательные функции"
      ]
    },
    {
      "cell_type": "markdown",
      "metadata": {
        "id": "aYgQolvwBrQe"
      },
      "source": [
        "Определим функцию для вывода матрицы ошибок."
      ]
    },
    {
      "cell_type": "code",
      "execution_count": null,
      "metadata": {
        "id": "2E7GY9BZBTUP"
      },
      "outputs": [],
      "source": [
        "def conf_matrix(y, y_pred, title):\n",
        "    fig, ax =plt.subplots(figsize=(5,5))\n",
        "    labels = ['1', '2', '3', '4', '5']\n",
        "    ax=sns.heatmap(confusion_matrix(y, y_pred), annot=True, cmap=\"Blues\", fmt='g', cbar=False, annot_kws={\"size\":25})\n",
        "    plt.title(title, fontsize=20)\n",
        "    ax.xaxis.set_ticklabels(labels, fontsize=17)\n",
        "    ax.yaxis.set_ticklabels(labels, fontsize=17)\n",
        "    ax.set_ylabel('Тест', fontsize=20)\n",
        "    ax.set_xlabel('Предсказание', fontsize=20)\n",
        "    plt.show()"
      ]
    },
    {
      "cell_type": "markdown",
      "metadata": {
        "id": "FBlgLSttArC8"
      },
      "source": [
        "### Загрузка данных"
      ]
    },
    {
      "cell_type": "markdown",
      "metadata": {
        "id": "MGggMCprpC-f"
      },
      "source": [
        "#Клонирование репозитория GitHub в Colab"
      ]
    },
    {
      "cell_type": "code",
      "execution_count": null,
      "metadata": {
        "colab": {
          "base_uri": "https://localhost:8080/"
        },
        "id": "3040kOpmn6Mv",
        "outputId": "406afa3a-bf71-4f6b-f491-960f065b476d"
      },
      "outputs": [
        {
          "output_type": "stream",
          "name": "stdout",
          "text": [
            "Cloning into 'geo-reviews-dataset-2023'...\n",
            "remote: Enumerating objects: 10, done.\u001b[K\n",
            "remote: Counting objects: 100% (10/10), done.\u001b[K\n",
            "remote: Compressing objects: 100% (9/9), done.\u001b[K\n",
            "remote: Total 10 (delta 0), reused 10 (delta 0), pack-reused 0 (from 0)\u001b[K\n",
            "Receiving objects: 100% (10/10), 167.74 KiB | 867.00 KiB/s, done.\n"
          ]
        }
      ],
      "source": [
        "!git clone https://github.com/yandex/geo-reviews-dataset-2023.git"
      ]
    },
    {
      "cell_type": "markdown",
      "metadata": {
        "id": "SWiTEEJvpFrO"
      },
      "source": [
        "#Перейдите в папку с датасетом"
      ]
    },
    {
      "cell_type": "code",
      "execution_count": null,
      "metadata": {
        "colab": {
          "base_uri": "https://localhost:8080/"
        },
        "id": "fS0gUH6Cn-RB",
        "outputId": "cf4d3c62-36d6-4ff4-d5b4-693315354a66"
      },
      "outputs": [
        {
          "output_type": "stream",
          "name": "stdout",
          "text": [
            "/content/geo-reviews-dataset-2023/geo-reviews-dataset-2023\n"
          ]
        }
      ],
      "source": [
        "%cd geo-reviews-dataset-2023"
      ]
    },
    {
      "cell_type": "markdown",
      "metadata": {
        "id": "WuHBSuV9pJwA"
      },
      "source": [
        "#Ознакомьтесь с содержимым"
      ]
    },
    {
      "cell_type": "code",
      "execution_count": null,
      "metadata": {
        "colab": {
          "base_uri": "https://localhost:8080/"
        },
        "id": "vxz5EYmFoAMZ",
        "outputId": "b81d4f7e-5f26-4eb5-d6fd-da13c125bd11"
      },
      "outputs": [
        {
          "output_type": "stream",
          "name": "stdout",
          "text": [
            "AUTHORS.md  CONTRIBUTING.md  geo-reviews-dataset-2023.tskv  LICENSE.md\tmedia  README.md\n"
          ]
        }
      ],
      "source": [
        "!ls"
      ]
    },
    {
      "cell_type": "code",
      "execution_count": null,
      "metadata": {
        "colab": {
          "base_uri": "https://localhost:8080/",
          "height": 900
        },
        "id": "j8tQFE6aoIHm",
        "outputId": "2d32425e-edce-45fd-995e-0c51f587b845"
      },
      "outputs": [
        {
          "output_type": "execute_result",
          "data": {
            "text/plain": [
              "  address=Екатеринбург, ул. Московская / ул. Волгоградская / ул. Печатников  \\\n",
              "0  address=Московская область, Электросталь, прос...                          \n",
              "1  address=Краснодар, Прикубанский внутригородско...                          \n",
              "2  address=Санкт-Петербург, проспект Энгельса, 11...                          \n",
              "3          address=Тверь, Волоколамский проспект, 39                          \n",
              "4  address=Иркутская область, Черемхово, Первомай...                          \n",
              "\n",
              "   name_ru=Московский квартал  rating=3.  \\\n",
              "0   name_ru=Продукты Ермолино  rating=5.   \n",
              "1             name_ru=LimeFit  rating=1.   \n",
              "2        name_ru=Snow-Express  rating=4.   \n",
              "3  name_ru=Студия Beauty Brow  rating=5.   \n",
              "4               name_ru=Tele2  rating=5.   \n",
              "\n",
              "                              rubrics=Жилой комплекс  \\\n",
              "0  rubrics=Магазин продуктов;Продукты глубокой за...   \n",
              "1                                rubrics=Фитнес-клуб   \n",
              "2  rubrics=Пункт проката;Прокат велосипедов;Сапсё...   \n",
              "3  rubrics=Салон красоты;Визажисты, стилисты;Сало...   \n",
              "4  rubrics=Оператор сотовой связи;Интернет-провайдер   \n",
              "\n",
              "  text=Московский квартал 2.\\nШумно : летом по ночам дикие гонки. Грязно : кругом стройки, невозможно открыть окна (16 этаж! ), вечно по району летает мусор. Детские площадки убогие, на большой площади однотипные конструкции. Очень дорогая коммуналка. Часто срабатывает пожарная сигнализация. Жильцы уже не реагируют. В это время, обычно около часа, не работают лифты. Из плюсов - отличная планировка квартир ( Московская 194 ), на мой взгляд. Ремонт от застройщика на 3-. Окна вообще жуть - вместо вентиляции. По соотношению цена/качество - 3.  \n",
              "0  text=Замечательная сеть магазинов в общем, хор...                                                                                                                                                                                                                                                                                                                                                                                                                                                                                                              \n",
              "1  text=Не знаю смутят ли кого-то данные правила,...                                                                                                                                                                                                                                                                                                                                                                                                                                                                                                              \n",
              "2  text=Хорошие условия аренды. \\nДружелюбный пер...                                                                                                                                                                                                                                                                                                                                                                                                                                                                                                              \n",
              "3  text=Топ мастер Ангелина топ во всех смыслах )...                                                                                                                                                                                                                                                                                                                                                                                                                                                                                                              \n",
              "4  text=Приятное общение, все доступно объяснили,...                                                                                                                                                                                                                                                                                                                                                                                                                                                                                                              "
            ],
            "text/html": [
              "\n",
              "  <div id=\"df-2fcb5821-a2cd-4bb6-8cc6-44698846cf85\" class=\"colab-df-container\">\n",
              "    <div>\n",
              "<style scoped>\n",
              "    .dataframe tbody tr th:only-of-type {\n",
              "        vertical-align: middle;\n",
              "    }\n",
              "\n",
              "    .dataframe tbody tr th {\n",
              "        vertical-align: top;\n",
              "    }\n",
              "\n",
              "    .dataframe thead th {\n",
              "        text-align: right;\n",
              "    }\n",
              "</style>\n",
              "<table border=\"1\" class=\"dataframe\">\n",
              "  <thead>\n",
              "    <tr style=\"text-align: right;\">\n",
              "      <th></th>\n",
              "      <th>address=Екатеринбург, ул. Московская / ул. Волгоградская / ул. Печатников</th>\n",
              "      <th>name_ru=Московский квартал</th>\n",
              "      <th>rating=3.</th>\n",
              "      <th>rubrics=Жилой комплекс</th>\n",
              "      <th>text=Московский квартал 2.\\nШумно : летом по ночам дикие гонки. Грязно : кругом стройки, невозможно открыть окна (16 этаж! ), вечно по району летает мусор. Детские площадки убогие, на большой площади однотипные конструкции. Очень дорогая коммуналка. Часто срабатывает пожарная сигнализация. Жильцы уже не реагируют. В это время, обычно около часа, не работают лифты. Из плюсов - отличная планировка квартир ( Московская 194 ), на мой взгляд. Ремонт от застройщика на 3-. Окна вообще жуть - вместо вентиляции. По соотношению цена/качество - 3.</th>\n",
              "    </tr>\n",
              "  </thead>\n",
              "  <tbody>\n",
              "    <tr>\n",
              "      <th>0</th>\n",
              "      <td>address=Московская область, Электросталь, прос...</td>\n",
              "      <td>name_ru=Продукты Ермолино</td>\n",
              "      <td>rating=5.</td>\n",
              "      <td>rubrics=Магазин продуктов;Продукты глубокой за...</td>\n",
              "      <td>text=Замечательная сеть магазинов в общем, хор...</td>\n",
              "    </tr>\n",
              "    <tr>\n",
              "      <th>1</th>\n",
              "      <td>address=Краснодар, Прикубанский внутригородско...</td>\n",
              "      <td>name_ru=LimeFit</td>\n",
              "      <td>rating=1.</td>\n",
              "      <td>rubrics=Фитнес-клуб</td>\n",
              "      <td>text=Не знаю смутят ли кого-то данные правила,...</td>\n",
              "    </tr>\n",
              "    <tr>\n",
              "      <th>2</th>\n",
              "      <td>address=Санкт-Петербург, проспект Энгельса, 11...</td>\n",
              "      <td>name_ru=Snow-Express</td>\n",
              "      <td>rating=4.</td>\n",
              "      <td>rubrics=Пункт проката;Прокат велосипедов;Сапсё...</td>\n",
              "      <td>text=Хорошие условия аренды. \\nДружелюбный пер...</td>\n",
              "    </tr>\n",
              "    <tr>\n",
              "      <th>3</th>\n",
              "      <td>address=Тверь, Волоколамский проспект, 39</td>\n",
              "      <td>name_ru=Студия Beauty Brow</td>\n",
              "      <td>rating=5.</td>\n",
              "      <td>rubrics=Салон красоты;Визажисты, стилисты;Сало...</td>\n",
              "      <td>text=Топ мастер Ангелина топ во всех смыслах )...</td>\n",
              "    </tr>\n",
              "    <tr>\n",
              "      <th>4</th>\n",
              "      <td>address=Иркутская область, Черемхово, Первомай...</td>\n",
              "      <td>name_ru=Tele2</td>\n",
              "      <td>rating=5.</td>\n",
              "      <td>rubrics=Оператор сотовой связи;Интернет-провайдер</td>\n",
              "      <td>text=Приятное общение, все доступно объяснили,...</td>\n",
              "    </tr>\n",
              "  </tbody>\n",
              "</table>\n",
              "</div>\n",
              "    <div class=\"colab-df-buttons\">\n",
              "\n",
              "  <div class=\"colab-df-container\">\n",
              "    <button class=\"colab-df-convert\" onclick=\"convertToInteractive('df-2fcb5821-a2cd-4bb6-8cc6-44698846cf85')\"\n",
              "            title=\"Convert this dataframe to an interactive table.\"\n",
              "            style=\"display:none;\">\n",
              "\n",
              "  <svg xmlns=\"http://www.w3.org/2000/svg\" height=\"24px\" viewBox=\"0 -960 960 960\">\n",
              "    <path d=\"M120-120v-720h720v720H120Zm60-500h600v-160H180v160Zm220 220h160v-160H400v160Zm0 220h160v-160H400v160ZM180-400h160v-160H180v160Zm440 0h160v-160H620v160ZM180-180h160v-160H180v160Zm440 0h160v-160H620v160Z\"/>\n",
              "  </svg>\n",
              "    </button>\n",
              "\n",
              "  <style>\n",
              "    .colab-df-container {\n",
              "      display:flex;\n",
              "      gap: 12px;\n",
              "    }\n",
              "\n",
              "    .colab-df-convert {\n",
              "      background-color: #E8F0FE;\n",
              "      border: none;\n",
              "      border-radius: 50%;\n",
              "      cursor: pointer;\n",
              "      display: none;\n",
              "      fill: #1967D2;\n",
              "      height: 32px;\n",
              "      padding: 0 0 0 0;\n",
              "      width: 32px;\n",
              "    }\n",
              "\n",
              "    .colab-df-convert:hover {\n",
              "      background-color: #E2EBFA;\n",
              "      box-shadow: 0px 1px 2px rgba(60, 64, 67, 0.3), 0px 1px 3px 1px rgba(60, 64, 67, 0.15);\n",
              "      fill: #174EA6;\n",
              "    }\n",
              "\n",
              "    .colab-df-buttons div {\n",
              "      margin-bottom: 4px;\n",
              "    }\n",
              "\n",
              "    [theme=dark] .colab-df-convert {\n",
              "      background-color: #3B4455;\n",
              "      fill: #D2E3FC;\n",
              "    }\n",
              "\n",
              "    [theme=dark] .colab-df-convert:hover {\n",
              "      background-color: #434B5C;\n",
              "      box-shadow: 0px 1px 3px 1px rgba(0, 0, 0, 0.15);\n",
              "      filter: drop-shadow(0px 1px 2px rgba(0, 0, 0, 0.3));\n",
              "      fill: #FFFFFF;\n",
              "    }\n",
              "  </style>\n",
              "\n",
              "    <script>\n",
              "      const buttonEl =\n",
              "        document.querySelector('#df-2fcb5821-a2cd-4bb6-8cc6-44698846cf85 button.colab-df-convert');\n",
              "      buttonEl.style.display =\n",
              "        google.colab.kernel.accessAllowed ? 'block' : 'none';\n",
              "\n",
              "      async function convertToInteractive(key) {\n",
              "        const element = document.querySelector('#df-2fcb5821-a2cd-4bb6-8cc6-44698846cf85');\n",
              "        const dataTable =\n",
              "          await google.colab.kernel.invokeFunction('convertToInteractive',\n",
              "                                                    [key], {});\n",
              "        if (!dataTable) return;\n",
              "\n",
              "        const docLinkHtml = 'Like what you see? Visit the ' +\n",
              "          '<a target=\"_blank\" href=https://colab.research.google.com/notebooks/data_table.ipynb>data table notebook</a>'\n",
              "          + ' to learn more about interactive tables.';\n",
              "        element.innerHTML = '';\n",
              "        dataTable['output_type'] = 'display_data';\n",
              "        await google.colab.output.renderOutput(dataTable, element);\n",
              "        const docLink = document.createElement('div');\n",
              "        docLink.innerHTML = docLinkHtml;\n",
              "        element.appendChild(docLink);\n",
              "      }\n",
              "    </script>\n",
              "  </div>\n",
              "\n",
              "\n",
              "<div id=\"df-a3845f23-e6c5-49d4-84e3-bf2afebe071e\">\n",
              "  <button class=\"colab-df-quickchart\" onclick=\"quickchart('df-a3845f23-e6c5-49d4-84e3-bf2afebe071e')\"\n",
              "            title=\"Suggest charts\"\n",
              "            style=\"display:none;\">\n",
              "\n",
              "<svg xmlns=\"http://www.w3.org/2000/svg\" height=\"24px\"viewBox=\"0 0 24 24\"\n",
              "     width=\"24px\">\n",
              "    <g>\n",
              "        <path d=\"M19 3H5c-1.1 0-2 .9-2 2v14c0 1.1.9 2 2 2h14c1.1 0 2-.9 2-2V5c0-1.1-.9-2-2-2zM9 17H7v-7h2v7zm4 0h-2V7h2v10zm4 0h-2v-4h2v4z\"/>\n",
              "    </g>\n",
              "</svg>\n",
              "  </button>\n",
              "\n",
              "<style>\n",
              "  .colab-df-quickchart {\n",
              "      --bg-color: #E8F0FE;\n",
              "      --fill-color: #1967D2;\n",
              "      --hover-bg-color: #E2EBFA;\n",
              "      --hover-fill-color: #174EA6;\n",
              "      --disabled-fill-color: #AAA;\n",
              "      --disabled-bg-color: #DDD;\n",
              "  }\n",
              "\n",
              "  [theme=dark] .colab-df-quickchart {\n",
              "      --bg-color: #3B4455;\n",
              "      --fill-color: #D2E3FC;\n",
              "      --hover-bg-color: #434B5C;\n",
              "      --hover-fill-color: #FFFFFF;\n",
              "      --disabled-bg-color: #3B4455;\n",
              "      --disabled-fill-color: #666;\n",
              "  }\n",
              "\n",
              "  .colab-df-quickchart {\n",
              "    background-color: var(--bg-color);\n",
              "    border: none;\n",
              "    border-radius: 50%;\n",
              "    cursor: pointer;\n",
              "    display: none;\n",
              "    fill: var(--fill-color);\n",
              "    height: 32px;\n",
              "    padding: 0;\n",
              "    width: 32px;\n",
              "  }\n",
              "\n",
              "  .colab-df-quickchart:hover {\n",
              "    background-color: var(--hover-bg-color);\n",
              "    box-shadow: 0 1px 2px rgba(60, 64, 67, 0.3), 0 1px 3px 1px rgba(60, 64, 67, 0.15);\n",
              "    fill: var(--button-hover-fill-color);\n",
              "  }\n",
              "\n",
              "  .colab-df-quickchart-complete:disabled,\n",
              "  .colab-df-quickchart-complete:disabled:hover {\n",
              "    background-color: var(--disabled-bg-color);\n",
              "    fill: var(--disabled-fill-color);\n",
              "    box-shadow: none;\n",
              "  }\n",
              "\n",
              "  .colab-df-spinner {\n",
              "    border: 2px solid var(--fill-color);\n",
              "    border-color: transparent;\n",
              "    border-bottom-color: var(--fill-color);\n",
              "    animation:\n",
              "      spin 1s steps(1) infinite;\n",
              "  }\n",
              "\n",
              "  @keyframes spin {\n",
              "    0% {\n",
              "      border-color: transparent;\n",
              "      border-bottom-color: var(--fill-color);\n",
              "      border-left-color: var(--fill-color);\n",
              "    }\n",
              "    20% {\n",
              "      border-color: transparent;\n",
              "      border-left-color: var(--fill-color);\n",
              "      border-top-color: var(--fill-color);\n",
              "    }\n",
              "    30% {\n",
              "      border-color: transparent;\n",
              "      border-left-color: var(--fill-color);\n",
              "      border-top-color: var(--fill-color);\n",
              "      border-right-color: var(--fill-color);\n",
              "    }\n",
              "    40% {\n",
              "      border-color: transparent;\n",
              "      border-right-color: var(--fill-color);\n",
              "      border-top-color: var(--fill-color);\n",
              "    }\n",
              "    60% {\n",
              "      border-color: transparent;\n",
              "      border-right-color: var(--fill-color);\n",
              "    }\n",
              "    80% {\n",
              "      border-color: transparent;\n",
              "      border-right-color: var(--fill-color);\n",
              "      border-bottom-color: var(--fill-color);\n",
              "    }\n",
              "    90% {\n",
              "      border-color: transparent;\n",
              "      border-bottom-color: var(--fill-color);\n",
              "    }\n",
              "  }\n",
              "</style>\n",
              "\n",
              "  <script>\n",
              "    async function quickchart(key) {\n",
              "      const quickchartButtonEl =\n",
              "        document.querySelector('#' + key + ' button');\n",
              "      quickchartButtonEl.disabled = true;  // To prevent multiple clicks.\n",
              "      quickchartButtonEl.classList.add('colab-df-spinner');\n",
              "      try {\n",
              "        const charts = await google.colab.kernel.invokeFunction(\n",
              "            'suggestCharts', [key], {});\n",
              "      } catch (error) {\n",
              "        console.error('Error during call to suggestCharts:', error);\n",
              "      }\n",
              "      quickchartButtonEl.classList.remove('colab-df-spinner');\n",
              "      quickchartButtonEl.classList.add('colab-df-quickchart-complete');\n",
              "    }\n",
              "    (() => {\n",
              "      let quickchartButtonEl =\n",
              "        document.querySelector('#df-a3845f23-e6c5-49d4-84e3-bf2afebe071e button');\n",
              "      quickchartButtonEl.style.display =\n",
              "        google.colab.kernel.accessAllowed ? 'block' : 'none';\n",
              "    })();\n",
              "  </script>\n",
              "</div>\n",
              "    </div>\n",
              "  </div>\n"
            ],
            "application/vnd.google.colaboratory.intrinsic+json": {
              "type": "dataframe",
              "variable_name": "data"
            }
          },
          "metadata": {},
          "execution_count": 82
        }
      ],
      "source": [
        "# Загрузка файла\n",
        "import pandas as pd\n",
        "data = pd.read_csv(\"geo-reviews-dataset-2023.tskv\", sep='\\t')\n",
        "data.head()"
      ]
    },
    {
      "cell_type": "code",
      "execution_count": null,
      "metadata": {
        "id": "dXKHHcSfq2v3"
      },
      "outputs": [],
      "source": [
        "# Присвоим новые названия колонкам\n",
        "data.columns = ['address', 'name_ru', 'rating', 'rubrics', 'text']"
      ]
    },
    {
      "cell_type": "code",
      "execution_count": null,
      "metadata": {
        "id": "0i1SCuEGrJi8"
      },
      "outputs": [],
      "source": [
        "# Удаляем префиксы из значений в каждом столбце\n",
        "data['address'] = data['address'].str.replace(r'^address=', '', regex=True)\n",
        "data['name_ru'] = data['name_ru'].str.replace(r'^name_ru=', '', regex=True)\n",
        "data['rating'] = data['rating'].str.replace(r'^rating=', '', regex=True)\n",
        "data['rubrics'] = data['rubrics'].str.replace(r'^rubrics=', '', regex=True)\n",
        "data['text'] = data['text'].str.replace(r'^text=', '', regex=True)"
      ]
    },
    {
      "cell_type": "code",
      "execution_count": null,
      "metadata": {
        "colab": {
          "base_uri": "https://localhost:8080/",
          "height": 362
        },
        "id": "0z_mWjyFq6C4",
        "outputId": "a9370d66-3193-4fe0-dc7e-6a774976e5c6"
      },
      "outputs": [
        {
          "output_type": "execute_result",
          "data": {
            "text/plain": [
              "                                             address             name_ru  \\\n",
              "0  Московская область, Электросталь, проспект Лен...   Продукты Ермолино   \n",
              "1  Краснодар, Прикубанский внутригородской округ,...             LimeFit   \n",
              "2   Санкт-Петербург, проспект Энгельса, 111, корп. 1        Snow-Express   \n",
              "3                  Тверь, Волоколамский проспект, 39  Студия Beauty Brow   \n",
              "4  Иркутская область, Черемхово, Первомайская ули...               Tele2   \n",
              "\n",
              "  rating                                            rubrics  \\\n",
              "0     5.  Магазин продуктов;Продукты глубокой заморозки;...   \n",
              "1     1.                                        Фитнес-клуб   \n",
              "2     4.        Пункт проката;Прокат велосипедов;Сапсёрфинг   \n",
              "3     5.  Салон красоты;Визажисты, стилисты;Салон бровей...   \n",
              "4     5.          Оператор сотовой связи;Интернет-провайдер   \n",
              "\n",
              "                                                text  \n",
              "0  Замечательная сеть магазинов в общем, хороший ...  \n",
              "1  Не знаю смутят ли кого-то данные правила, но я...  \n",
              "2  Хорошие условия аренды. \\nДружелюбный персонал...  \n",
              "3  Топ мастер Ангелина топ во всех смыслах ) Немн...  \n",
              "4  Приятное общение, все доступно объяснили, мне ...  "
            ],
            "text/html": [
              "\n",
              "  <div id=\"df-f96c6edd-da92-4488-a158-602a6c561006\" class=\"colab-df-container\">\n",
              "    <div>\n",
              "<style scoped>\n",
              "    .dataframe tbody tr th:only-of-type {\n",
              "        vertical-align: middle;\n",
              "    }\n",
              "\n",
              "    .dataframe tbody tr th {\n",
              "        vertical-align: top;\n",
              "    }\n",
              "\n",
              "    .dataframe thead th {\n",
              "        text-align: right;\n",
              "    }\n",
              "</style>\n",
              "<table border=\"1\" class=\"dataframe\">\n",
              "  <thead>\n",
              "    <tr style=\"text-align: right;\">\n",
              "      <th></th>\n",
              "      <th>address</th>\n",
              "      <th>name_ru</th>\n",
              "      <th>rating</th>\n",
              "      <th>rubrics</th>\n",
              "      <th>text</th>\n",
              "    </tr>\n",
              "  </thead>\n",
              "  <tbody>\n",
              "    <tr>\n",
              "      <th>0</th>\n",
              "      <td>Московская область, Электросталь, проспект Лен...</td>\n",
              "      <td>Продукты Ермолино</td>\n",
              "      <td>5.</td>\n",
              "      <td>Магазин продуктов;Продукты глубокой заморозки;...</td>\n",
              "      <td>Замечательная сеть магазинов в общем, хороший ...</td>\n",
              "    </tr>\n",
              "    <tr>\n",
              "      <th>1</th>\n",
              "      <td>Краснодар, Прикубанский внутригородской округ,...</td>\n",
              "      <td>LimeFit</td>\n",
              "      <td>1.</td>\n",
              "      <td>Фитнес-клуб</td>\n",
              "      <td>Не знаю смутят ли кого-то данные правила, но я...</td>\n",
              "    </tr>\n",
              "    <tr>\n",
              "      <th>2</th>\n",
              "      <td>Санкт-Петербург, проспект Энгельса, 111, корп. 1</td>\n",
              "      <td>Snow-Express</td>\n",
              "      <td>4.</td>\n",
              "      <td>Пункт проката;Прокат велосипедов;Сапсёрфинг</td>\n",
              "      <td>Хорошие условия аренды. \\nДружелюбный персонал...</td>\n",
              "    </tr>\n",
              "    <tr>\n",
              "      <th>3</th>\n",
              "      <td>Тверь, Волоколамский проспект, 39</td>\n",
              "      <td>Студия Beauty Brow</td>\n",
              "      <td>5.</td>\n",
              "      <td>Салон красоты;Визажисты, стилисты;Салон бровей...</td>\n",
              "      <td>Топ мастер Ангелина топ во всех смыслах ) Немн...</td>\n",
              "    </tr>\n",
              "    <tr>\n",
              "      <th>4</th>\n",
              "      <td>Иркутская область, Черемхово, Первомайская ули...</td>\n",
              "      <td>Tele2</td>\n",
              "      <td>5.</td>\n",
              "      <td>Оператор сотовой связи;Интернет-провайдер</td>\n",
              "      <td>Приятное общение, все доступно объяснили, мне ...</td>\n",
              "    </tr>\n",
              "  </tbody>\n",
              "</table>\n",
              "</div>\n",
              "    <div class=\"colab-df-buttons\">\n",
              "\n",
              "  <div class=\"colab-df-container\">\n",
              "    <button class=\"colab-df-convert\" onclick=\"convertToInteractive('df-f96c6edd-da92-4488-a158-602a6c561006')\"\n",
              "            title=\"Convert this dataframe to an interactive table.\"\n",
              "            style=\"display:none;\">\n",
              "\n",
              "  <svg xmlns=\"http://www.w3.org/2000/svg\" height=\"24px\" viewBox=\"0 -960 960 960\">\n",
              "    <path d=\"M120-120v-720h720v720H120Zm60-500h600v-160H180v160Zm220 220h160v-160H400v160Zm0 220h160v-160H400v160ZM180-400h160v-160H180v160Zm440 0h160v-160H620v160ZM180-180h160v-160H180v160Zm440 0h160v-160H620v160Z\"/>\n",
              "  </svg>\n",
              "    </button>\n",
              "\n",
              "  <style>\n",
              "    .colab-df-container {\n",
              "      display:flex;\n",
              "      gap: 12px;\n",
              "    }\n",
              "\n",
              "    .colab-df-convert {\n",
              "      background-color: #E8F0FE;\n",
              "      border: none;\n",
              "      border-radius: 50%;\n",
              "      cursor: pointer;\n",
              "      display: none;\n",
              "      fill: #1967D2;\n",
              "      height: 32px;\n",
              "      padding: 0 0 0 0;\n",
              "      width: 32px;\n",
              "    }\n",
              "\n",
              "    .colab-df-convert:hover {\n",
              "      background-color: #E2EBFA;\n",
              "      box-shadow: 0px 1px 2px rgba(60, 64, 67, 0.3), 0px 1px 3px 1px rgba(60, 64, 67, 0.15);\n",
              "      fill: #174EA6;\n",
              "    }\n",
              "\n",
              "    .colab-df-buttons div {\n",
              "      margin-bottom: 4px;\n",
              "    }\n",
              "\n",
              "    [theme=dark] .colab-df-convert {\n",
              "      background-color: #3B4455;\n",
              "      fill: #D2E3FC;\n",
              "    }\n",
              "\n",
              "    [theme=dark] .colab-df-convert:hover {\n",
              "      background-color: #434B5C;\n",
              "      box-shadow: 0px 1px 3px 1px rgba(0, 0, 0, 0.15);\n",
              "      filter: drop-shadow(0px 1px 2px rgba(0, 0, 0, 0.3));\n",
              "      fill: #FFFFFF;\n",
              "    }\n",
              "  </style>\n",
              "\n",
              "    <script>\n",
              "      const buttonEl =\n",
              "        document.querySelector('#df-f96c6edd-da92-4488-a158-602a6c561006 button.colab-df-convert');\n",
              "      buttonEl.style.display =\n",
              "        google.colab.kernel.accessAllowed ? 'block' : 'none';\n",
              "\n",
              "      async function convertToInteractive(key) {\n",
              "        const element = document.querySelector('#df-f96c6edd-da92-4488-a158-602a6c561006');\n",
              "        const dataTable =\n",
              "          await google.colab.kernel.invokeFunction('convertToInteractive',\n",
              "                                                    [key], {});\n",
              "        if (!dataTable) return;\n",
              "\n",
              "        const docLinkHtml = 'Like what you see? Visit the ' +\n",
              "          '<a target=\"_blank\" href=https://colab.research.google.com/notebooks/data_table.ipynb>data table notebook</a>'\n",
              "          + ' to learn more about interactive tables.';\n",
              "        element.innerHTML = '';\n",
              "        dataTable['output_type'] = 'display_data';\n",
              "        await google.colab.output.renderOutput(dataTable, element);\n",
              "        const docLink = document.createElement('div');\n",
              "        docLink.innerHTML = docLinkHtml;\n",
              "        element.appendChild(docLink);\n",
              "      }\n",
              "    </script>\n",
              "  </div>\n",
              "\n",
              "\n",
              "<div id=\"df-d1325e50-df91-4853-b058-475c52123d9c\">\n",
              "  <button class=\"colab-df-quickchart\" onclick=\"quickchart('df-d1325e50-df91-4853-b058-475c52123d9c')\"\n",
              "            title=\"Suggest charts\"\n",
              "            style=\"display:none;\">\n",
              "\n",
              "<svg xmlns=\"http://www.w3.org/2000/svg\" height=\"24px\"viewBox=\"0 0 24 24\"\n",
              "     width=\"24px\">\n",
              "    <g>\n",
              "        <path d=\"M19 3H5c-1.1 0-2 .9-2 2v14c0 1.1.9 2 2 2h14c1.1 0 2-.9 2-2V5c0-1.1-.9-2-2-2zM9 17H7v-7h2v7zm4 0h-2V7h2v10zm4 0h-2v-4h2v4z\"/>\n",
              "    </g>\n",
              "</svg>\n",
              "  </button>\n",
              "\n",
              "<style>\n",
              "  .colab-df-quickchart {\n",
              "      --bg-color: #E8F0FE;\n",
              "      --fill-color: #1967D2;\n",
              "      --hover-bg-color: #E2EBFA;\n",
              "      --hover-fill-color: #174EA6;\n",
              "      --disabled-fill-color: #AAA;\n",
              "      --disabled-bg-color: #DDD;\n",
              "  }\n",
              "\n",
              "  [theme=dark] .colab-df-quickchart {\n",
              "      --bg-color: #3B4455;\n",
              "      --fill-color: #D2E3FC;\n",
              "      --hover-bg-color: #434B5C;\n",
              "      --hover-fill-color: #FFFFFF;\n",
              "      --disabled-bg-color: #3B4455;\n",
              "      --disabled-fill-color: #666;\n",
              "  }\n",
              "\n",
              "  .colab-df-quickchart {\n",
              "    background-color: var(--bg-color);\n",
              "    border: none;\n",
              "    border-radius: 50%;\n",
              "    cursor: pointer;\n",
              "    display: none;\n",
              "    fill: var(--fill-color);\n",
              "    height: 32px;\n",
              "    padding: 0;\n",
              "    width: 32px;\n",
              "  }\n",
              "\n",
              "  .colab-df-quickchart:hover {\n",
              "    background-color: var(--hover-bg-color);\n",
              "    box-shadow: 0 1px 2px rgba(60, 64, 67, 0.3), 0 1px 3px 1px rgba(60, 64, 67, 0.15);\n",
              "    fill: var(--button-hover-fill-color);\n",
              "  }\n",
              "\n",
              "  .colab-df-quickchart-complete:disabled,\n",
              "  .colab-df-quickchart-complete:disabled:hover {\n",
              "    background-color: var(--disabled-bg-color);\n",
              "    fill: var(--disabled-fill-color);\n",
              "    box-shadow: none;\n",
              "  }\n",
              "\n",
              "  .colab-df-spinner {\n",
              "    border: 2px solid var(--fill-color);\n",
              "    border-color: transparent;\n",
              "    border-bottom-color: var(--fill-color);\n",
              "    animation:\n",
              "      spin 1s steps(1) infinite;\n",
              "  }\n",
              "\n",
              "  @keyframes spin {\n",
              "    0% {\n",
              "      border-color: transparent;\n",
              "      border-bottom-color: var(--fill-color);\n",
              "      border-left-color: var(--fill-color);\n",
              "    }\n",
              "    20% {\n",
              "      border-color: transparent;\n",
              "      border-left-color: var(--fill-color);\n",
              "      border-top-color: var(--fill-color);\n",
              "    }\n",
              "    30% {\n",
              "      border-color: transparent;\n",
              "      border-left-color: var(--fill-color);\n",
              "      border-top-color: var(--fill-color);\n",
              "      border-right-color: var(--fill-color);\n",
              "    }\n",
              "    40% {\n",
              "      border-color: transparent;\n",
              "      border-right-color: var(--fill-color);\n",
              "      border-top-color: var(--fill-color);\n",
              "    }\n",
              "    60% {\n",
              "      border-color: transparent;\n",
              "      border-right-color: var(--fill-color);\n",
              "    }\n",
              "    80% {\n",
              "      border-color: transparent;\n",
              "      border-right-color: var(--fill-color);\n",
              "      border-bottom-color: var(--fill-color);\n",
              "    }\n",
              "    90% {\n",
              "      border-color: transparent;\n",
              "      border-bottom-color: var(--fill-color);\n",
              "    }\n",
              "  }\n",
              "</style>\n",
              "\n",
              "  <script>\n",
              "    async function quickchart(key) {\n",
              "      const quickchartButtonEl =\n",
              "        document.querySelector('#' + key + ' button');\n",
              "      quickchartButtonEl.disabled = true;  // To prevent multiple clicks.\n",
              "      quickchartButtonEl.classList.add('colab-df-spinner');\n",
              "      try {\n",
              "        const charts = await google.colab.kernel.invokeFunction(\n",
              "            'suggestCharts', [key], {});\n",
              "      } catch (error) {\n",
              "        console.error('Error during call to suggestCharts:', error);\n",
              "      }\n",
              "      quickchartButtonEl.classList.remove('colab-df-spinner');\n",
              "      quickchartButtonEl.classList.add('colab-df-quickchart-complete');\n",
              "    }\n",
              "    (() => {\n",
              "      let quickchartButtonEl =\n",
              "        document.querySelector('#df-d1325e50-df91-4853-b058-475c52123d9c button');\n",
              "      quickchartButtonEl.style.display =\n",
              "        google.colab.kernel.accessAllowed ? 'block' : 'none';\n",
              "    })();\n",
              "  </script>\n",
              "</div>\n",
              "    </div>\n",
              "  </div>\n"
            ],
            "application/vnd.google.colaboratory.intrinsic+json": {
              "type": "dataframe",
              "variable_name": "data"
            }
          },
          "metadata": {},
          "execution_count": 85
        }
      ],
      "source": [
        "data.head()"
      ]
    },
    {
      "cell_type": "code",
      "source": [
        "# Удаляем строки с пропущенными значениями в столбце 'text'\n",
        "data = data.dropna(subset=['text'])"
      ],
      "metadata": {
        "id": "MuSabm1EdGFE"
      },
      "execution_count": null,
      "outputs": []
    },
    {
      "cell_type": "code",
      "source": [
        "data['rating'].value_counts()"
      ],
      "metadata": {
        "colab": {
          "base_uri": "https://localhost:8080/",
          "height": 303
        },
        "id": "LMQWWaRdc2qr",
        "outputId": "cb37427c-07a0-411e-98a4-fe3a7a419f0e"
      },
      "execution_count": null,
      "outputs": [
        {
          "output_type": "execute_result",
          "data": {
            "text/plain": [
              "rating\n",
              "5.    389693\n",
              "4.     41116\n",
              "1.     34298\n",
              "3.     21651\n",
              "2.     12071\n",
              "0.       200\n",
              "Name: count, dtype: int64"
            ],
            "text/html": [
              "<div>\n",
              "<style scoped>\n",
              "    .dataframe tbody tr th:only-of-type {\n",
              "        vertical-align: middle;\n",
              "    }\n",
              "\n",
              "    .dataframe tbody tr th {\n",
              "        vertical-align: top;\n",
              "    }\n",
              "\n",
              "    .dataframe thead th {\n",
              "        text-align: right;\n",
              "    }\n",
              "</style>\n",
              "<table border=\"1\" class=\"dataframe\">\n",
              "  <thead>\n",
              "    <tr style=\"text-align: right;\">\n",
              "      <th></th>\n",
              "      <th>count</th>\n",
              "    </tr>\n",
              "    <tr>\n",
              "      <th>rating</th>\n",
              "      <th></th>\n",
              "    </tr>\n",
              "  </thead>\n",
              "  <tbody>\n",
              "    <tr>\n",
              "      <th>5.</th>\n",
              "      <td>389693</td>\n",
              "    </tr>\n",
              "    <tr>\n",
              "      <th>4.</th>\n",
              "      <td>41116</td>\n",
              "    </tr>\n",
              "    <tr>\n",
              "      <th>1.</th>\n",
              "      <td>34298</td>\n",
              "    </tr>\n",
              "    <tr>\n",
              "      <th>3.</th>\n",
              "      <td>21651</td>\n",
              "    </tr>\n",
              "    <tr>\n",
              "      <th>2.</th>\n",
              "      <td>12071</td>\n",
              "    </tr>\n",
              "    <tr>\n",
              "      <th>0.</th>\n",
              "      <td>200</td>\n",
              "    </tr>\n",
              "  </tbody>\n",
              "</table>\n",
              "</div><br><label><b>dtype:</b> int64</label>"
            ]
          },
          "metadata": {},
          "execution_count": 87
        }
      ]
    },
    {
      "cell_type": "code",
      "source": [
        "# Удаление строк со значением 0.0 в столбце 'rating'\n",
        "data = data[data['rating'] != '0.']"
      ],
      "metadata": {
        "id": "z4JcK7QcfUco"
      },
      "execution_count": null,
      "outputs": []
    },
    {
      "cell_type": "code",
      "source": [
        "data['rating'].value_counts()"
      ],
      "metadata": {
        "colab": {
          "base_uri": "https://localhost:8080/",
          "height": 272
        },
        "id": "m_vp0SOreoJE",
        "outputId": "70a808a6-586d-4a2f-fcb2-1535f08bfa31"
      },
      "execution_count": null,
      "outputs": [
        {
          "output_type": "execute_result",
          "data": {
            "text/plain": [
              "rating\n",
              "5.    389693\n",
              "4.     41116\n",
              "1.     34298\n",
              "3.     21651\n",
              "2.     12071\n",
              "Name: count, dtype: int64"
            ],
            "text/html": [
              "<div>\n",
              "<style scoped>\n",
              "    .dataframe tbody tr th:only-of-type {\n",
              "        vertical-align: middle;\n",
              "    }\n",
              "\n",
              "    .dataframe tbody tr th {\n",
              "        vertical-align: top;\n",
              "    }\n",
              "\n",
              "    .dataframe thead th {\n",
              "        text-align: right;\n",
              "    }\n",
              "</style>\n",
              "<table border=\"1\" class=\"dataframe\">\n",
              "  <thead>\n",
              "    <tr style=\"text-align: right;\">\n",
              "      <th></th>\n",
              "      <th>count</th>\n",
              "    </tr>\n",
              "    <tr>\n",
              "      <th>rating</th>\n",
              "      <th></th>\n",
              "    </tr>\n",
              "  </thead>\n",
              "  <tbody>\n",
              "    <tr>\n",
              "      <th>5.</th>\n",
              "      <td>389693</td>\n",
              "    </tr>\n",
              "    <tr>\n",
              "      <th>4.</th>\n",
              "      <td>41116</td>\n",
              "    </tr>\n",
              "    <tr>\n",
              "      <th>1.</th>\n",
              "      <td>34298</td>\n",
              "    </tr>\n",
              "    <tr>\n",
              "      <th>3.</th>\n",
              "      <td>21651</td>\n",
              "    </tr>\n",
              "    <tr>\n",
              "      <th>2.</th>\n",
              "      <td>12071</td>\n",
              "    </tr>\n",
              "  </tbody>\n",
              "</table>\n",
              "</div><br><label><b>dtype:</b> int64</label>"
            ]
          },
          "metadata": {},
          "execution_count": 89
        }
      ]
    },
    {
      "cell_type": "code",
      "source": [
        "# Проверьте уникальные значения в столбце 'rating'\n",
        "unique_ratings = data['rating'].unique()\n",
        "print(\"Уникальные значения в столбце 'rating':\", unique_ratings)"
      ],
      "metadata": {
        "colab": {
          "base_uri": "https://localhost:8080/"
        },
        "id": "VYYyqDUURq28",
        "outputId": "33a57788-0895-4b62-9f24-178766803ef4"
      },
      "execution_count": null,
      "outputs": [
        {
          "output_type": "stream",
          "name": "stdout",
          "text": [
            "Уникальные значения в столбце 'rating': ['5.' '1.' '4.' '3.' '2.']\n"
          ]
        }
      ]
    },
    {
      "cell_type": "code",
      "source": [
        "from imblearn.under_sampling import RandomUnderSampler\n",
        "\n",
        "# Разделите данные на признаки (X) и метки (y)\n",
        "X = data.drop(columns=['rating'])\n",
        "y = data['rating']\n",
        "\n",
        "# Определите количество примеров, которое хотите оставить для каждого класса\n",
        "sampling_strategy = {'1.': 10000, '2.': 10000, '3.': 10000, '4.': 10000, '5.': 10000}\n",
        "\n",
        "# Применение андерсемплинга\n",
        "rus = RandomUnderSampler(sampling_strategy=sampling_strategy, random_state=42)\n",
        "X_res, y_res = rus.fit_resample(X, y)\n",
        "\n",
        "# Объедините сбалансированные данные обратно в DataFrame\n",
        "data_resampled = pd.concat([X_res, y_res], axis=1)\n",
        "\n",
        "# Теперь df_resampled содержит сбалансированные данные\n",
        "print(data_resampled['rating'].value_counts())"
      ],
      "metadata": {
        "colab": {
          "base_uri": "https://localhost:8080/"
        },
        "id": "jFXs6iy2QVml",
        "outputId": "df39c7df-ee7b-41ec-8490-a30d73951ff8"
      },
      "execution_count": null,
      "outputs": [
        {
          "output_type": "stream",
          "name": "stdout",
          "text": [
            "rating\n",
            "1.    10000\n",
            "2.    10000\n",
            "3.    10000\n",
            "4.    10000\n",
            "5.    10000\n",
            "Name: count, dtype: int64\n"
          ]
        }
      ]
    },
    {
      "cell_type": "code",
      "source": [
        "#Уменьшаем наш датасет с сохранением баланса по классам\n",
        "#data, _ = train_test_split(data_resampled, test_size=0.5, random_state=42)"
      ],
      "metadata": {
        "id": "hvxyyEjlahta"
      },
      "execution_count": null,
      "outputs": []
    },
    {
      "cell_type": "code",
      "execution_count": null,
      "metadata": {
        "colab": {
          "base_uri": "https://localhost:8080/"
        },
        "id": "E2QU1Yjup6WC",
        "outputId": "5ec156a9-0761-4100-d939-7fdd9e54107b"
      },
      "outputs": [
        {
          "output_type": "stream",
          "name": "stdout",
          "text": [
            "Размер обучающей выборки: 40000\n",
            "Размер тестовой выборки: 10000\n"
          ]
        }
      ],
      "source": [
        "# Разделим датасет на обучающую и тестовую выборки\n",
        "train_data, test_data = train_test_split(data_resampled, test_size=0.2, random_state=42)\n",
        "\n",
        "# Проверим размеры выборок\n",
        "print(f\"Размер обучающей выборки: {len(train_data)}\")\n",
        "print(f\"Размер тестовой выборки: {len(test_data)}\")"
      ]
    },
    {
      "cell_type": "code",
      "execution_count": null,
      "metadata": {
        "colab": {
          "base_uri": "https://localhost:8080/"
        },
        "id": "qKjqVESXqQQa",
        "outputId": "ce4df211-566d-464c-bb2a-084834924d67"
      },
      "outputs": [
        {
          "output_type": "stream",
          "name": "stdout",
          "text": [
            "<class 'pandas.core.frame.DataFrame'>\n",
            "Index: 40000 entries, 307651 to 371026\n",
            "Data columns (total 5 columns):\n",
            " #   Column   Non-Null Count  Dtype \n",
            "---  ------   --------------  ----- \n",
            " 0   address  40000 non-null  object\n",
            " 1   name_ru  40000 non-null  object\n",
            " 2   rubrics  40000 non-null  object\n",
            " 3   text     40000 non-null  object\n",
            " 4   rating   40000 non-null  object\n",
            "dtypes: object(5)\n",
            "memory usage: 1.8+ MB\n"
          ]
        }
      ],
      "source": [
        "train_data.info()"
      ]
    },
    {
      "cell_type": "code",
      "execution_count": null,
      "metadata": {
        "colab": {
          "base_uri": "https://localhost:8080/"
        },
        "id": "W4LftFLCBLSm",
        "outputId": "24a38159-546d-4411-bb42-f4f2523edc80"
      },
      "outputs": [
        {
          "output_type": "stream",
          "name": "stdout",
          "text": [
            "<class 'pandas.core.frame.DataFrame'>\n",
            "Index: 10000 entries, 342550 to 191105\n",
            "Data columns (total 5 columns):\n",
            " #   Column   Non-Null Count  Dtype \n",
            "---  ------   --------------  ----- \n",
            " 0   address  10000 non-null  object\n",
            " 1   name_ru  10000 non-null  object\n",
            " 2   rubrics  10000 non-null  object\n",
            " 3   text     10000 non-null  object\n",
            " 4   rating   10000 non-null  object\n",
            "dtypes: object(5)\n",
            "memory usage: 468.8+ KB\n"
          ]
        }
      ],
      "source": [
        "test_data.info()"
      ]
    },
    {
      "cell_type": "code",
      "execution_count": null,
      "metadata": {
        "colab": {
          "base_uri": "https://localhost:8080/"
        },
        "id": "6L-C8frABBnU",
        "outputId": "33db99b7-451d-465d-930e-ba8ea93fc60d"
      },
      "outputs": [
        {
          "output_type": "stream",
          "name": "stdout",
          "text": [
            "<class 'pandas.core.frame.DataFrame'>\n",
            "Index: 40000 entries, 307651 to 371026\n",
            "Data columns (total 5 columns):\n",
            " #   Column   Non-Null Count  Dtype  \n",
            "---  ------   --------------  -----  \n",
            " 0   address  40000 non-null  object \n",
            " 1   name_ru  40000 non-null  object \n",
            " 2   rubrics  40000 non-null  object \n",
            " 3   text     40000 non-null  object \n",
            " 4   rating   40000 non-null  float64\n",
            "dtypes: float64(1), object(4)\n",
            "memory usage: 1.8+ MB\n"
          ]
        }
      ],
      "source": [
        "# Преобразуем столбец 'rating' в числовой тип\n",
        "train_data['rating'] = pd.to_numeric(train_data['rating'], errors='coerce')\n",
        "test_data['rating'] = pd.to_numeric(test_data['rating'], errors='coerce')\n",
        "# Проверим тип данных после преобразования\n",
        "train_data.info()"
      ]
    },
    {
      "cell_type": "code",
      "source": [
        "test_data.info()"
      ],
      "metadata": {
        "colab": {
          "base_uri": "https://localhost:8080/"
        },
        "id": "dd6HZnpDTDAB",
        "outputId": "abc39933-0283-413e-e225-6be1b0170647"
      },
      "execution_count": null,
      "outputs": [
        {
          "output_type": "stream",
          "name": "stdout",
          "text": [
            "<class 'pandas.core.frame.DataFrame'>\n",
            "Index: 10000 entries, 342550 to 191105\n",
            "Data columns (total 5 columns):\n",
            " #   Column   Non-Null Count  Dtype  \n",
            "---  ------   --------------  -----  \n",
            " 0   address  10000 non-null  object \n",
            " 1   name_ru  10000 non-null  object \n",
            " 2   rubrics  10000 non-null  object \n",
            " 3   text     10000 non-null  object \n",
            " 4   rating   10000 non-null  float64\n",
            "dtypes: float64(1), object(4)\n",
            "memory usage: 468.8+ KB\n"
          ]
        }
      ]
    },
    {
      "cell_type": "code",
      "execution_count": null,
      "metadata": {
        "id": "jc1kyIYcr4BA"
      },
      "outputs": [],
      "source": [
        "train_data.drop_duplicates(subset='text',inplace=True)"
      ]
    },
    {
      "cell_type": "code",
      "execution_count": null,
      "metadata": {
        "id": "6bRs0nHgsMh-"
      },
      "outputs": [],
      "source": [
        "# Подсчитываем количество записей по рубрикам\n",
        "text_by_rubrics = train_data['rubrics'].value_counts().sort_index().reset_index(name='counts')\n",
        "\n",
        "# Переименовываем столбцы для удобства\n",
        "text_by_rubrics.columns = ['rubrics', 'counts']\n"
      ]
    },
    {
      "cell_type": "code",
      "execution_count": null,
      "metadata": {
        "colab": {
          "base_uri": "https://localhost:8080/",
          "height": 206
        },
        "id": "GiGXnjMAsvUk",
        "outputId": "a452421d-f135-4418-d57f-6c2bbc89260d"
      },
      "outputs": [
        {
          "output_type": "execute_result",
          "data": {
            "text/plain": [
              "                                             rubrics  counts\n",
              "0  IP-телефония;IT-компания;Телекоммуникационная ...       1\n",
              "1                                        IT-компания      18\n",
              "2                 IT-компания;Агентство недвижимости       1\n",
              "3           IT-компания;Информационный интернет-сайт       1\n",
              "4  IT-компания;Информационный интернет-сайт;Интер...       3"
            ],
            "text/html": [
              "\n",
              "  <div id=\"df-d324803c-ffc5-4756-ac2e-ee0b4d354ceb\" class=\"colab-df-container\">\n",
              "    <div>\n",
              "<style scoped>\n",
              "    .dataframe tbody tr th:only-of-type {\n",
              "        vertical-align: middle;\n",
              "    }\n",
              "\n",
              "    .dataframe tbody tr th {\n",
              "        vertical-align: top;\n",
              "    }\n",
              "\n",
              "    .dataframe thead th {\n",
              "        text-align: right;\n",
              "    }\n",
              "</style>\n",
              "<table border=\"1\" class=\"dataframe\">\n",
              "  <thead>\n",
              "    <tr style=\"text-align: right;\">\n",
              "      <th></th>\n",
              "      <th>rubrics</th>\n",
              "      <th>counts</th>\n",
              "    </tr>\n",
              "  </thead>\n",
              "  <tbody>\n",
              "    <tr>\n",
              "      <th>0</th>\n",
              "      <td>IP-телефония;IT-компания;Телекоммуникационная ...</td>\n",
              "      <td>1</td>\n",
              "    </tr>\n",
              "    <tr>\n",
              "      <th>1</th>\n",
              "      <td>IT-компания</td>\n",
              "      <td>18</td>\n",
              "    </tr>\n",
              "    <tr>\n",
              "      <th>2</th>\n",
              "      <td>IT-компания;Агентство недвижимости</td>\n",
              "      <td>1</td>\n",
              "    </tr>\n",
              "    <tr>\n",
              "      <th>3</th>\n",
              "      <td>IT-компания;Информационный интернет-сайт</td>\n",
              "      <td>1</td>\n",
              "    </tr>\n",
              "    <tr>\n",
              "      <th>4</th>\n",
              "      <td>IT-компания;Информационный интернет-сайт;Интер...</td>\n",
              "      <td>3</td>\n",
              "    </tr>\n",
              "  </tbody>\n",
              "</table>\n",
              "</div>\n",
              "    <div class=\"colab-df-buttons\">\n",
              "\n",
              "  <div class=\"colab-df-container\">\n",
              "    <button class=\"colab-df-convert\" onclick=\"convertToInteractive('df-d324803c-ffc5-4756-ac2e-ee0b4d354ceb')\"\n",
              "            title=\"Convert this dataframe to an interactive table.\"\n",
              "            style=\"display:none;\">\n",
              "\n",
              "  <svg xmlns=\"http://www.w3.org/2000/svg\" height=\"24px\" viewBox=\"0 -960 960 960\">\n",
              "    <path d=\"M120-120v-720h720v720H120Zm60-500h600v-160H180v160Zm220 220h160v-160H400v160Zm0 220h160v-160H400v160ZM180-400h160v-160H180v160Zm440 0h160v-160H620v160ZM180-180h160v-160H180v160Zm440 0h160v-160H620v160Z\"/>\n",
              "  </svg>\n",
              "    </button>\n",
              "\n",
              "  <style>\n",
              "    .colab-df-container {\n",
              "      display:flex;\n",
              "      gap: 12px;\n",
              "    }\n",
              "\n",
              "    .colab-df-convert {\n",
              "      background-color: #E8F0FE;\n",
              "      border: none;\n",
              "      border-radius: 50%;\n",
              "      cursor: pointer;\n",
              "      display: none;\n",
              "      fill: #1967D2;\n",
              "      height: 32px;\n",
              "      padding: 0 0 0 0;\n",
              "      width: 32px;\n",
              "    }\n",
              "\n",
              "    .colab-df-convert:hover {\n",
              "      background-color: #E2EBFA;\n",
              "      box-shadow: 0px 1px 2px rgba(60, 64, 67, 0.3), 0px 1px 3px 1px rgba(60, 64, 67, 0.15);\n",
              "      fill: #174EA6;\n",
              "    }\n",
              "\n",
              "    .colab-df-buttons div {\n",
              "      margin-bottom: 4px;\n",
              "    }\n",
              "\n",
              "    [theme=dark] .colab-df-convert {\n",
              "      background-color: #3B4455;\n",
              "      fill: #D2E3FC;\n",
              "    }\n",
              "\n",
              "    [theme=dark] .colab-df-convert:hover {\n",
              "      background-color: #434B5C;\n",
              "      box-shadow: 0px 1px 3px 1px rgba(0, 0, 0, 0.15);\n",
              "      filter: drop-shadow(0px 1px 2px rgba(0, 0, 0, 0.3));\n",
              "      fill: #FFFFFF;\n",
              "    }\n",
              "  </style>\n",
              "\n",
              "    <script>\n",
              "      const buttonEl =\n",
              "        document.querySelector('#df-d324803c-ffc5-4756-ac2e-ee0b4d354ceb button.colab-df-convert');\n",
              "      buttonEl.style.display =\n",
              "        google.colab.kernel.accessAllowed ? 'block' : 'none';\n",
              "\n",
              "      async function convertToInteractive(key) {\n",
              "        const element = document.querySelector('#df-d324803c-ffc5-4756-ac2e-ee0b4d354ceb');\n",
              "        const dataTable =\n",
              "          await google.colab.kernel.invokeFunction('convertToInteractive',\n",
              "                                                    [key], {});\n",
              "        if (!dataTable) return;\n",
              "\n",
              "        const docLinkHtml = 'Like what you see? Visit the ' +\n",
              "          '<a target=\"_blank\" href=https://colab.research.google.com/notebooks/data_table.ipynb>data table notebook</a>'\n",
              "          + ' to learn more about interactive tables.';\n",
              "        element.innerHTML = '';\n",
              "        dataTable['output_type'] = 'display_data';\n",
              "        await google.colab.output.renderOutput(dataTable, element);\n",
              "        const docLink = document.createElement('div');\n",
              "        docLink.innerHTML = docLinkHtml;\n",
              "        element.appendChild(docLink);\n",
              "      }\n",
              "    </script>\n",
              "  </div>\n",
              "\n",
              "\n",
              "<div id=\"df-85605872-8269-4976-855e-3d70015c5d1b\">\n",
              "  <button class=\"colab-df-quickchart\" onclick=\"quickchart('df-85605872-8269-4976-855e-3d70015c5d1b')\"\n",
              "            title=\"Suggest charts\"\n",
              "            style=\"display:none;\">\n",
              "\n",
              "<svg xmlns=\"http://www.w3.org/2000/svg\" height=\"24px\"viewBox=\"0 0 24 24\"\n",
              "     width=\"24px\">\n",
              "    <g>\n",
              "        <path d=\"M19 3H5c-1.1 0-2 .9-2 2v14c0 1.1.9 2 2 2h14c1.1 0 2-.9 2-2V5c0-1.1-.9-2-2-2zM9 17H7v-7h2v7zm4 0h-2V7h2v10zm4 0h-2v-4h2v4z\"/>\n",
              "    </g>\n",
              "</svg>\n",
              "  </button>\n",
              "\n",
              "<style>\n",
              "  .colab-df-quickchart {\n",
              "      --bg-color: #E8F0FE;\n",
              "      --fill-color: #1967D2;\n",
              "      --hover-bg-color: #E2EBFA;\n",
              "      --hover-fill-color: #174EA6;\n",
              "      --disabled-fill-color: #AAA;\n",
              "      --disabled-bg-color: #DDD;\n",
              "  }\n",
              "\n",
              "  [theme=dark] .colab-df-quickchart {\n",
              "      --bg-color: #3B4455;\n",
              "      --fill-color: #D2E3FC;\n",
              "      --hover-bg-color: #434B5C;\n",
              "      --hover-fill-color: #FFFFFF;\n",
              "      --disabled-bg-color: #3B4455;\n",
              "      --disabled-fill-color: #666;\n",
              "  }\n",
              "\n",
              "  .colab-df-quickchart {\n",
              "    background-color: var(--bg-color);\n",
              "    border: none;\n",
              "    border-radius: 50%;\n",
              "    cursor: pointer;\n",
              "    display: none;\n",
              "    fill: var(--fill-color);\n",
              "    height: 32px;\n",
              "    padding: 0;\n",
              "    width: 32px;\n",
              "  }\n",
              "\n",
              "  .colab-df-quickchart:hover {\n",
              "    background-color: var(--hover-bg-color);\n",
              "    box-shadow: 0 1px 2px rgba(60, 64, 67, 0.3), 0 1px 3px 1px rgba(60, 64, 67, 0.15);\n",
              "    fill: var(--button-hover-fill-color);\n",
              "  }\n",
              "\n",
              "  .colab-df-quickchart-complete:disabled,\n",
              "  .colab-df-quickchart-complete:disabled:hover {\n",
              "    background-color: var(--disabled-bg-color);\n",
              "    fill: var(--disabled-fill-color);\n",
              "    box-shadow: none;\n",
              "  }\n",
              "\n",
              "  .colab-df-spinner {\n",
              "    border: 2px solid var(--fill-color);\n",
              "    border-color: transparent;\n",
              "    border-bottom-color: var(--fill-color);\n",
              "    animation:\n",
              "      spin 1s steps(1) infinite;\n",
              "  }\n",
              "\n",
              "  @keyframes spin {\n",
              "    0% {\n",
              "      border-color: transparent;\n",
              "      border-bottom-color: var(--fill-color);\n",
              "      border-left-color: var(--fill-color);\n",
              "    }\n",
              "    20% {\n",
              "      border-color: transparent;\n",
              "      border-left-color: var(--fill-color);\n",
              "      border-top-color: var(--fill-color);\n",
              "    }\n",
              "    30% {\n",
              "      border-color: transparent;\n",
              "      border-left-color: var(--fill-color);\n",
              "      border-top-color: var(--fill-color);\n",
              "      border-right-color: var(--fill-color);\n",
              "    }\n",
              "    40% {\n",
              "      border-color: transparent;\n",
              "      border-right-color: var(--fill-color);\n",
              "      border-top-color: var(--fill-color);\n",
              "    }\n",
              "    60% {\n",
              "      border-color: transparent;\n",
              "      border-right-color: var(--fill-color);\n",
              "    }\n",
              "    80% {\n",
              "      border-color: transparent;\n",
              "      border-right-color: var(--fill-color);\n",
              "      border-bottom-color: var(--fill-color);\n",
              "    }\n",
              "    90% {\n",
              "      border-color: transparent;\n",
              "      border-bottom-color: var(--fill-color);\n",
              "    }\n",
              "  }\n",
              "</style>\n",
              "\n",
              "  <script>\n",
              "    async function quickchart(key) {\n",
              "      const quickchartButtonEl =\n",
              "        document.querySelector('#' + key + ' button');\n",
              "      quickchartButtonEl.disabled = true;  // To prevent multiple clicks.\n",
              "      quickchartButtonEl.classList.add('colab-df-spinner');\n",
              "      try {\n",
              "        const charts = await google.colab.kernel.invokeFunction(\n",
              "            'suggestCharts', [key], {});\n",
              "      } catch (error) {\n",
              "        console.error('Error during call to suggestCharts:', error);\n",
              "      }\n",
              "      quickchartButtonEl.classList.remove('colab-df-spinner');\n",
              "      quickchartButtonEl.classList.add('colab-df-quickchart-complete');\n",
              "    }\n",
              "    (() => {\n",
              "      let quickchartButtonEl =\n",
              "        document.querySelector('#df-85605872-8269-4976-855e-3d70015c5d1b button');\n",
              "      quickchartButtonEl.style.display =\n",
              "        google.colab.kernel.accessAllowed ? 'block' : 'none';\n",
              "    })();\n",
              "  </script>\n",
              "</div>\n",
              "    </div>\n",
              "  </div>\n"
            ],
            "application/vnd.google.colaboratory.intrinsic+json": {
              "type": "dataframe",
              "variable_name": "text_by_rubrics",
              "summary": "{\n  \"name\": \"text_by_rubrics\",\n  \"rows\": 6467,\n  \"fields\": [\n    {\n      \"column\": \"rubrics\",\n      \"properties\": {\n        \"dtype\": \"string\",\n        \"num_unique_values\": 6467,\n        \"samples\": [\n          \"\\u041a\\u043e\\u043d\\u0434\\u0438\\u0442\\u0435\\u0440\\u0441\\u043a\\u0430\\u044f;\\u041c\\u0430\\u0433\\u0430\\u0437\\u0438\\u043d \\u043f\\u0440\\u043e\\u0434\\u0443\\u043a\\u0442\\u043e\\u0432;\\u041c\\u0430\\u0433\\u0430\\u0437\\u0438\\u043d \\u043a\\u0443\\u043b\\u0438\\u043d\\u0430\\u0440\\u0438\\u0438;\\u041a\\u043e\\u0444\\u0435\\u0439\\u043d\\u044f\",\n          \"\\u041e\\u0431\\u0449\\u0435\\u043e\\u0431\\u0440\\u0430\\u0437\\u043e\\u0432\\u0430\\u0442\\u0435\\u043b\\u044c\\u043d\\u0430\\u044f \\u0448\\u043a\\u043e\\u043b\\u0430;\\u041b\\u0438\\u0446\\u0435\\u0439\",\n          \"\\u0421\\u0430\\u043b\\u043e\\u043d \\u043a\\u0440\\u0430\\u0441\\u043e\\u0442\\u044b;\\u0422\\u0430\\u0442\\u0443-\\u0441\\u0430\\u043b\\u043e\\u043d\"\n        ],\n        \"semantic_type\": \"\",\n        \"description\": \"\"\n      }\n    },\n    {\n      \"column\": \"counts\",\n      \"properties\": {\n        \"dtype\": \"number\",\n        \"std\": 58,\n        \"min\": 1,\n        \"max\": 3830,\n        \"num_unique_values\": 127,\n        \"samples\": [\n          17,\n          350,\n          96\n        ],\n        \"semantic_type\": \"\",\n        \"description\": \"\"\n      }\n    }\n  ]\n}"
            }
          },
          "metadata": {},
          "execution_count": 100
        }
      ],
      "source": [
        "# Просмотр первых нескольких строк\n",
        "text_by_rubrics.head()"
      ]
    },
    {
      "cell_type": "code",
      "execution_count": null,
      "metadata": {
        "colab": {
          "base_uri": "https://localhost:8080/",
          "height": 665
        },
        "id": "nYkcnb5Bsiow",
        "outputId": "e8190746-acbb-41e3-9923-c69658f21cd0"
      },
      "outputs": [
        {
          "output_type": "display_data",
          "data": {
            "text/plain": [
              "<Figure size 1000x800 with 1 Axes>"
            ],
            "image/png": "[encoded data removed]"
          },
          "metadata": {}
        }
      ],
      "source": [
        "# Фильтруем данные, чтобы оставить только рубрики с количеством публикаций больше 500\n",
        "filtered_rubrics = text_by_rubrics[text_by_rubrics['counts'] > 500]\n",
        "top_rubrics = filtered_rubrics\n",
        "# Создаем график\n",
        "plt.figure(figsize=(10,8))\n",
        "# Строим горизонтальную столбчатую диаграмму\n",
        "ax = sns.barplot(x='counts', y='rubrics', data=top_rubrics, color='skyblue')\n",
        "# Добавляем заголовок\n",
        "plt.title('Рубрики с количеством публикаций > 500', fontsize=16)\n",
        "# Убираем метки на оси Y (если хотите отображать только рубрики)\n",
        "plt.xticks(rotation=0)  # Можно оставить без поворота или под углом\n",
        "plt.xlabel('Число публикаций', fontsize=12)\n",
        "plt.ylabel('Рубрика', fontsize=12)\n",
        "# Добавляем подписи для каждого столбца\n",
        "ax.bar_label(ax.containers[0])\n",
        "# Показать график\n",
        "plt.show()"
      ]
    },
    {
      "cell_type": "code",
      "execution_count": null,
      "metadata": {
        "id": "hbtj_IkrycxS"
      },
      "outputs": [],
      "source": [
        "# Подсчитываем количество записей по названиям заведения\n",
        "texy_by_name = train_data['name_ru'].value_counts().sort_index().reset_index(name='counts')\n",
        "\n",
        "# Переименовываем столбцы для удобства\n",
        "texy_by_name.columns = ['name_ru', 'counts']"
      ]
    },
    {
      "cell_type": "code",
      "execution_count": null,
      "metadata": {
        "colab": {
          "base_uri": "https://localhost:8080/",
          "height": 666
        },
        "id": "gqulzrDXzCo8",
        "outputId": "e57c7fd4-a4bf-49ae-e711-84b73f70dd40"
      },
      "outputs": [
        {
          "output_type": "display_data",
          "data": {
            "text/plain": [
              "<Figure size 1000x800 with 1 Axes>"
            ],
            "image/png": "[encoded data removed]"
          },
          "metadata": {}
        }
      ],
      "source": [
        "# Фильтруем данные, чтобы оставить только названиям заведений с количеством публикаций больше 100\n",
        "filtered_rubrics = texy_by_name[texy_by_name['counts'] > 100]\n",
        "# Создаем график\n",
        "plt.figure(figsize=(10,8))\n",
        "# Строим горизонтальную столбчатую диаграмму\n",
        "ax = sns.barplot(x='counts', y='name_ru', data=filtered_rubrics, color='skyblue')\n",
        "# Добавляем заголовок\n",
        "plt.title('Заведения с количеством публикаций > 100', fontsize=16)\n",
        "# Убираем метки на оси Y (если хотите отображать только рубрики)\n",
        "plt.xticks(rotation=0)  # Можно оставить без поворота или под углом\n",
        "plt.xlabel('Число публикаций', fontsize=12)\n",
        "plt.ylabel('Название заведений', fontsize=12)\n",
        "# Добавляем подписи для каждого столбца\n",
        "ax.bar_label(ax.containers[0])\n",
        "# Показать график\n",
        "plt.show()"
      ]
    },
    {
      "cell_type": "markdown",
      "metadata": {
        "id": "yZUJrvg4KOCn"
      },
      "source": [
        "#### Очистка данных"
      ]
    },
    {
      "cell_type": "code",
      "execution_count": null,
      "metadata": {
        "id": "Yq0VoC2cSha3"
      },
      "outputs": [],
      "source": [
        "df = train_data[['text','rating']] # обучающая выборка"
      ]
    },
    {
      "cell_type": "code",
      "execution_count": null,
      "metadata": {
        "id": "DuCdRpW0Sha3"
      },
      "outputs": [],
      "source": [
        "df_test = test_data[['text','rating']] # тестовая выборка"
      ]
    },
    {
      "cell_type": "code",
      "source": [
        "df"
      ],
      "metadata": {
        "colab": {
          "base_uri": "https://localhost:8080/",
          "height": 423
        },
        "id": "dQD5zheBP0ve",
        "outputId": "70120121-3620-4d92-a816-777085e4afa8"
      },
      "execution_count": null,
      "outputs": [
        {
          "output_type": "execute_result",
          "data": {
            "text/plain": [
              "                                                     text  rating\n",
              "307651  Часто беру там обед,хотелось бы чтобы ингредие...     4.0\n",
              "346839  Сам отель отличный, чисто, уютно, комфортно. О...     4.0\n",
              "216171  Всегда сдаю анализы только здесь. Спасибо всем...     5.0\n",
              "332822  Возможно еда и интерьер достойны, НО НИ В КОЕМ...     2.0\n",
              "378645  Комплекс располагается в невероятно живописном...     2.0\n",
              "...                                                   ...     ...\n",
              "86513   Отдельное унижение — самостоятельно заполнять ...     2.0\n",
              "489910  Это лучшее заведение где мы были, атмосферно, ...     5.0\n",
              "59146   Очень вкусно, но видели тараканов. Персонал ве...     4.0\n",
              "341424  Привезли сюда таксу, отказали задние лапы, док...     1.0\n",
              "371026  Место симпатичное, кухня так себе, а вот обслу...     2.0\n",
              "\n",
              "[40000 rows x 2 columns]"
            ],
            "text/html": [
              "\n",
              "  <div id=\"df-130dc900-faed-4b07-a15a-1405ef51358d\" class=\"colab-df-container\">\n",
              "    <div>\n",
              "<style scoped>\n",
              "    .dataframe tbody tr th:only-of-type {\n",
              "        vertical-align: middle;\n",
              "    }\n",
              "\n",
              "    .dataframe tbody tr th {\n",
              "        vertical-align: top;\n",
              "    }\n",
              "\n",
              "    .dataframe thead th {\n",
              "        text-align: right;\n",
              "    }\n",
              "</style>\n",
              "<table border=\"1\" class=\"dataframe\">\n",
              "  <thead>\n",
              "    <tr style=\"text-align: right;\">\n",
              "      <th></th>\n",
              "      <th>text</th>\n",
              "      <th>rating</th>\n",
              "    </tr>\n",
              "  </thead>\n",
              "  <tbody>\n",
              "    <tr>\n",
              "      <th>307651</th>\n",
              "      <td>Часто беру там обед,хотелось бы чтобы ингредие...</td>\n",
              "      <td>4.0</td>\n",
              "    </tr>\n",
              "    <tr>\n",
              "      <th>346839</th>\n",
              "      <td>Сам отель отличный, чисто, уютно, комфортно. О...</td>\n",
              "      <td>4.0</td>\n",
              "    </tr>\n",
              "    <tr>\n",
              "      <th>216171</th>\n",
              "      <td>Всегда сдаю анализы только здесь. Спасибо всем...</td>\n",
              "      <td>5.0</td>\n",
              "    </tr>\n",
              "    <tr>\n",
              "      <th>332822</th>\n",
              "      <td>Возможно еда и интерьер достойны, НО НИ В КОЕМ...</td>\n",
              "      <td>2.0</td>\n",
              "    </tr>\n",
              "    <tr>\n",
              "      <th>378645</th>\n",
              "      <td>Комплекс располагается в невероятно живописном...</td>\n",
              "      <td>2.0</td>\n",
              "    </tr>\n",
              "    <tr>\n",
              "      <th>...</th>\n",
              "      <td>...</td>\n",
              "      <td>...</td>\n",
              "    </tr>\n",
              "    <tr>\n",
              "      <th>86513</th>\n",
              "      <td>Отдельное унижение — самостоятельно заполнять ...</td>\n",
              "      <td>2.0</td>\n",
              "    </tr>\n",
              "    <tr>\n",
              "      <th>489910</th>\n",
              "      <td>Это лучшее заведение где мы были, атмосферно, ...</td>\n",
              "      <td>5.0</td>\n",
              "    </tr>\n",
              "    <tr>\n",
              "      <th>59146</th>\n",
              "      <td>Очень вкусно, но видели тараканов. Персонал ве...</td>\n",
              "      <td>4.0</td>\n",
              "    </tr>\n",
              "    <tr>\n",
              "      <th>341424</th>\n",
              "      <td>Привезли сюда таксу, отказали задние лапы, док...</td>\n",
              "      <td>1.0</td>\n",
              "    </tr>\n",
              "    <tr>\n",
              "      <th>371026</th>\n",
              "      <td>Место симпатичное, кухня так себе, а вот обслу...</td>\n",
              "      <td>2.0</td>\n",
              "    </tr>\n",
              "  </tbody>\n",
              "</table>\n",
              "<p>40000 rows × 2 columns</p>\n",
              "</div>\n",
              "    <div class=\"colab-df-buttons\">\n",
              "\n",
              "  <div class=\"colab-df-container\">\n",
              "    <button class=\"colab-df-convert\" onclick=\"convertToInteractive('df-130dc900-faed-4b07-a15a-1405ef51358d')\"\n",
              "            title=\"Convert this dataframe to an interactive table.\"\n",
              "            style=\"display:none;\">\n",
              "\n",
              "  <svg xmlns=\"http://www.w3.org/2000/svg\" height=\"24px\" viewBox=\"0 -960 960 960\">\n",
              "    <path d=\"M120-120v-720h720v720H120Zm60-500h600v-160H180v160Zm220 220h160v-160H400v160Zm0 220h160v-160H400v160ZM180-400h160v-160H180v160Zm440 0h160v-160H620v160ZM180-180h160v-160H180v160Zm440 0h160v-160H620v160Z\"/>\n",
              "  </svg>\n",
              "    </button>\n",
              "\n",
              "  <style>\n",
              "    .colab-df-container {\n",
              "      display:flex;\n",
              "      gap: 12px;\n",
              "    }\n",
              "\n",
              "    .colab-df-convert {\n",
              "      background-color: #E8F0FE;\n",
              "      border: none;\n",
              "      border-radius: 50%;\n",
              "      cursor: pointer;\n",
              "      display: none;\n",
              "      fill: #1967D2;\n",
              "      height: 32px;\n",
              "      padding: 0 0 0 0;\n",
              "      width: 32px;\n",
              "    }\n",
              "\n",
              "    .colab-df-convert:hover {\n",
              "      background-color: #E2EBFA;\n",
              "      box-shadow: 0px 1px 2px rgba(60, 64, 67, 0.3), 0px 1px 3px 1px rgba(60, 64, 67, 0.15);\n",
              "      fill: #174EA6;\n",
              "    }\n",
              "\n",
              "    .colab-df-buttons div {\n",
              "      margin-bottom: 4px;\n",
              "    }\n",
              "\n",
              "    [theme=dark] .colab-df-convert {\n",
              "      background-color: #3B4455;\n",
              "      fill: #D2E3FC;\n",
              "    }\n",
              "\n",
              "    [theme=dark] .colab-df-convert:hover {\n",
              "      background-color: #434B5C;\n",
              "      box-shadow: 0px 1px 3px 1px rgba(0, 0, 0, 0.15);\n",
              "      filter: drop-shadow(0px 1px 2px rgba(0, 0, 0, 0.3));\n",
              "      fill: #FFFFFF;\n",
              "    }\n",
              "  </style>\n",
              "\n",
              "    <script>\n",
              "      const buttonEl =\n",
              "        document.querySelector('#df-130dc900-faed-4b07-a15a-1405ef51358d button.colab-df-convert');\n",
              "      buttonEl.style.display =\n",
              "        google.colab.kernel.accessAllowed ? 'block' : 'none';\n",
              "\n",
              "      async function convertToInteractive(key) {\n",
              "        const element = document.querySelector('#df-130dc900-faed-4b07-a15a-1405ef51358d');\n",
              "        const dataTable =\n",
              "          await google.colab.kernel.invokeFunction('convertToInteractive',\n",
              "                                                    [key], {});\n",
              "        if (!dataTable) return;\n",
              "\n",
              "        const docLinkHtml = 'Like what you see? Visit the ' +\n",
              "          '<a target=\"_blank\" href=https://colab.research.google.com/notebooks/data_table.ipynb>data table notebook</a>'\n",
              "          + ' to learn more about interactive tables.';\n",
              "        element.innerHTML = '';\n",
              "        dataTable['output_type'] = 'display_data';\n",
              "        await google.colab.output.renderOutput(dataTable, element);\n",
              "        const docLink = document.createElement('div');\n",
              "        docLink.innerHTML = docLinkHtml;\n",
              "        element.appendChild(docLink);\n",
              "      }\n",
              "    </script>\n",
              "  </div>\n",
              "\n",
              "\n",
              "<div id=\"df-df389b27-a15b-4994-9ce6-42fccaedc18d\">\n",
              "  <button class=\"colab-df-quickchart\" onclick=\"quickchart('df-df389b27-a15b-4994-9ce6-42fccaedc18d')\"\n",
              "            title=\"Suggest charts\"\n",
              "            style=\"display:none;\">\n",
              "\n",
              "<svg xmlns=\"http://www.w3.org/2000/svg\" height=\"24px\"viewBox=\"0 0 24 24\"\n",
              "     width=\"24px\">\n",
              "    <g>\n",
              "        <path d=\"M19 3H5c-1.1 0-2 .9-2 2v14c0 1.1.9 2 2 2h14c1.1 0 2-.9 2-2V5c0-1.1-.9-2-2-2zM9 17H7v-7h2v7zm4 0h-2V7h2v10zm4 0h-2v-4h2v4z\"/>\n",
              "    </g>\n",
              "</svg>\n",
              "  </button>\n",
              "\n",
              "<style>\n",
              "  .colab-df-quickchart {\n",
              "      --bg-color: #E8F0FE;\n",
              "      --fill-color: #1967D2;\n",
              "      --hover-bg-color: #E2EBFA;\n",
              "      --hover-fill-color: #174EA6;\n",
              "      --disabled-fill-color: #AAA;\n",
              "      --disabled-bg-color: #DDD;\n",
              "  }\n",
              "\n",
              "  [theme=dark] .colab-df-quickchart {\n",
              "      --bg-color: #3B4455;\n",
              "      --fill-color: #D2E3FC;\n",
              "      --hover-bg-color: #434B5C;\n",
              "      --hover-fill-color: #FFFFFF;\n",
              "      --disabled-bg-color: #3B4455;\n",
              "      --disabled-fill-color: #666;\n",
              "  }\n",
              "\n",
              "  .colab-df-quickchart {\n",
              "    background-color: var(--bg-color);\n",
              "    border: none;\n",
              "    border-radius: 50%;\n",
              "    cursor: pointer;\n",
              "    display: none;\n",
              "    fill: var(--fill-color);\n",
              "    height: 32px;\n",
              "    padding: 0;\n",
              "    width: 32px;\n",
              "  }\n",
              "\n",
              "  .colab-df-quickchart:hover {\n",
              "    background-color: var(--hover-bg-color);\n",
              "    box-shadow: 0 1px 2px rgba(60, 64, 67, 0.3), 0 1px 3px 1px rgba(60, 64, 67, 0.15);\n",
              "    fill: var(--button-hover-fill-color);\n",
              "  }\n",
              "\n",
              "  .colab-df-quickchart-complete:disabled,\n",
              "  .colab-df-quickchart-complete:disabled:hover {\n",
              "    background-color: var(--disabled-bg-color);\n",
              "    fill: var(--disabled-fill-color);\n",
              "    box-shadow: none;\n",
              "  }\n",
              "\n",
              "  .colab-df-spinner {\n",
              "    border: 2px solid var(--fill-color);\n",
              "    border-color: transparent;\n",
              "    border-bottom-color: var(--fill-color);\n",
              "    animation:\n",
              "      spin 1s steps(1) infinite;\n",
              "  }\n",
              "\n",
              "  @keyframes spin {\n",
              "    0% {\n",
              "      border-color: transparent;\n",
              "      border-bottom-color: var(--fill-color);\n",
              "      border-left-color: var(--fill-color);\n",
              "    }\n",
              "    20% {\n",
              "      border-color: transparent;\n",
              "      border-left-color: var(--fill-color);\n",
              "      border-top-color: var(--fill-color);\n",
              "    }\n",
              "    30% {\n",
              "      border-color: transparent;\n",
              "      border-left-color: var(--fill-color);\n",
              "      border-top-color: var(--fill-color);\n",
              "      border-right-color: var(--fill-color);\n",
              "    }\n",
              "    40% {\n",
              "      border-color: transparent;\n",
              "      border-right-color: var(--fill-color);\n",
              "      border-top-color: var(--fill-color);\n",
              "    }\n",
              "    60% {\n",
              "      border-color: transparent;\n",
              "      border-right-color: var(--fill-color);\n",
              "    }\n",
              "    80% {\n",
              "      border-color: transparent;\n",
              "      border-right-color: var(--fill-color);\n",
              "      border-bottom-color: var(--fill-color);\n",
              "    }\n",
              "    90% {\n",
              "      border-color: transparent;\n",
              "      border-bottom-color: var(--fill-color);\n",
              "    }\n",
              "  }\n",
              "</style>\n",
              "\n",
              "  <script>\n",
              "    async function quickchart(key) {\n",
              "      const quickchartButtonEl =\n",
              "        document.querySelector('#' + key + ' button');\n",
              "      quickchartButtonEl.disabled = true;  // To prevent multiple clicks.\n",
              "      quickchartButtonEl.classList.add('colab-df-spinner');\n",
              "      try {\n",
              "        const charts = await google.colab.kernel.invokeFunction(\n",
              "            'suggestCharts', [key], {});\n",
              "      } catch (error) {\n",
              "        console.error('Error during call to suggestCharts:', error);\n",
              "      }\n",
              "      quickchartButtonEl.classList.remove('colab-df-spinner');\n",
              "      quickchartButtonEl.classList.add('colab-df-quickchart-complete');\n",
              "    }\n",
              "    (() => {\n",
              "      let quickchartButtonEl =\n",
              "        document.querySelector('#df-df389b27-a15b-4994-9ce6-42fccaedc18d button');\n",
              "      quickchartButtonEl.style.display =\n",
              "        google.colab.kernel.accessAllowed ? 'block' : 'none';\n",
              "    })();\n",
              "  </script>\n",
              "</div>\n",
              "    </div>\n",
              "  </div>\n"
            ],
            "application/vnd.google.colaboratory.intrinsic+json": {
              "type": "dataframe",
              "variable_name": "df",
              "summary": "{\n  \"name\": \"df\",\n  \"rows\": 40000,\n  \"fields\": [\n    {\n      \"column\": \"text\",\n      \"properties\": {\n        \"dtype\": \"string\",\n        \"num_unique_values\": 40000,\n        \"samples\": [\n          \"\\u0414\\u0435\\u043b\\u0430\\u043b \\u043f\\u0440\\u043e\\u0444\\u0438\\u043b\\u0430\\u043a\\u0442\\u0438\\u043a\\u0443 \\u043f\\u043e\\u043b\\u043e\\u0441\\u0442\\u0438 \\u0440\\u0442\\u0430 , \\u043e\\u0447\\u0435\\u043d\\u044c \\u043f\\u043e\\u043d\\u0440\\u0430\\u0432\\u0438\\u043b\\u0441\\u044f \\u043f\\u043e\\u0434\\u0445\\u043e\\u0434 \\u043b\\u0435\\u0447\\u0430\\u0449\\u0435\\u0433\\u043e \\u0432\\u0440\\u0430\\u0447\\u0430 . \\u0425\\u043e\\u0440\\u043e\\u0448\\u0438\\u0439 \\u0438\\u043d\\u0442\\u0435\\u0440\\u044c\\u0435\\u0440 , \\u0432\\u0441\\u0435 \\u0447\\u0438\\u0441\\u0442\\u043e ! \\u041f\\u0440\\u0438\\u044f\\u0442\\u043d\\u043e \\u043d\\u0430\\u0445\\u043e\\u0434\\u0438\\u0442\\u044c\\u0441\\u044f \\u0438 \\u0445\\u043e\\u0440\\u043e\\u0448\\u0430\\u044f \\u043b\\u043e\\u043a\\u0430\\u0446\\u0438\\u044f . \\u0426\\u0435\\u043d\\u044b \\u043d\\u0430 \\u0443\\u0441\\u043b\\u0443\\u0433\\u0438 \\u043d\\u0435 \\u0434\\u0435\\u0448\\u0435\\u0432\\u044b\\u0435 , \\u0438\\u0449\\u0435\\u0442\\u0435 \\u0430\\u043a\\u0446\\u0438\\u0438 ! \\u0415\\u0441\\u0442\\u044c \\u0445\\u043e\\u0440\\u043e\\u0448\\u0438\\u0435 \\u043f\\u0440\\u0435\\u0434\\u043b\\u043e\\u0436\\u0435\\u043d\\u0438\\u044f.\",\n          \"\\u041e\\u0442\\u043b\\u0438\\u0447\\u043d\\u044b\\u0439 \\u043c\\u0430\\u0433\\u0430\\u0437\\u0438\\u043d,\\u043e\\u0442\\u043b\\u0438\\u0447\\u043d\\u044b\\u0435 \\u043f\\u0440\\u043e\\u0434\\u0430\\u0432\\u0446\\u044b,\\u043e\\u0442\\u043b\\u0438\\u0447\\u043d\\u044b\\u0439 \\u0434\\u0438\\u0440\\u0435\\u043a\\u0442\\u043e\\u0440!\\u0412\\u0441\\u0451 \\u0421\\u0443\\u043f\\u0435\\u0440!\\u0440\\u0435\\u043a\\u043e\\u043c\\u0435\\u043d\\u0434\\u0443\\u044e\",\n          \"\\u0414\\u043e \\u043a\\u0440\\u0438\\u0437\\u0438\\u0441\\u0430 \\u0431\\u044b\\u043b\\u043e \\u043d\\u0435 \\u043f\\u043b\\u043e\\u0445\\u043e\\u0435 \\u043c\\u0435\\u0441\\u0442\\u043e \\u0434\\u043b\\u044f \\u043b\\u044e\\u0434\\u0435\\u0439 \\u0441 \\u0440\\u0430\\u0437\\u043d\\u044b\\u043c \\u0434\\u043e\\u0441\\u0442\\u0430\\u0442\\u043a\\u043e\\u043c, \\u0441\\u0435\\u0439\\u0447\\u0430\\u0441 \\u0431\\u0435\\u0437 \\u0442\\u043e\\u043b\\u0441\\u0442\\u043e\\u0433\\u043e \\u043a\\u043e\\u0448\\u0435\\u043b\\u044c\\u043a\\u0430 \\u0442\\u0430\\u043c \\u0434\\u0435\\u043b\\u0430\\u0442\\u044c \\u043d\\u0435\\u0447\\u0435\\u0433\\u043e.\\\\n\\u041d\\u0430 \\u043c\\u0435\\u0441\\u0442\\u0435  \\u0437\\u0430\\u043a\\u0440\\u044b\\u0442\\u044b\\u0445 \\u0431\\u0443\\u0442\\u0438\\u043a\\u043e\\u0432 \\u043d\\u0430 2 \\u044d\\u0442\\u0430\\u0436\\u0435 \\u043e\\u0442\\u043a\\u0440\\u044b\\u043b\\u0438 \\u043e\\u0447\\u0435\\u0440\\u0435\\u0434\\u043d\\u0443\\u044e \\u0438\\u0433\\u0440\\u043e\\u0432\\u0443\\u044e \\u0437\\u043e\\u043d\\u0443, \\u0443\\u0432\\u0435\\u043b\\u0438\\u0447\\u0438\\u043b\\u0438 DNS, \\u043d\\u043e \\u043c\\u043d\\u043e\\u0433\\u043e \\u043f\\u0440\\u043e\\u0441\\u0442\\u0440\\u0430\\u043d\\u0441\\u0442\\u0432\\u0430 \\u043d\\u0435 \\u0438\\u0441\\u043f\\u043e\\u043b\\u044c\\u0437\\u0443\\u0435\\u0442\\u0441\\u044f.\\\\n\\u041f\\u043e\\u0441\\u0435\\u0442\\u0438\\u0442\\u0435\\u043b\\u0438 \\u0435\\u0441\\u0442\\u044c \\u0437\\u0430 \\u0441\\u0447\\u0435\\u0442 \\u0444\\u0443\\u0434\\u043a\\u043e\\u0440\\u0442\\u0430 \\u0438 \\u043a\\u0438\\u043d\\u043e\\u0442\\u0435\\u0430\\u0442\\u0440\\u0430\"\n        ],\n        \"semantic_type\": \"\",\n        \"description\": \"\"\n      }\n    },\n    {\n      \"column\": \"rating\",\n      \"properties\": {\n        \"dtype\": \"number\",\n        \"std\": 1.4145510058808253,\n        \"min\": 1.0,\n        \"max\": 5.0,\n        \"num_unique_values\": 5,\n        \"samples\": [\n          5.0,\n          1.0,\n          2.0\n        ],\n        \"semantic_type\": \"\",\n        \"description\": \"\"\n      }\n    }\n  ]\n}"
            }
          },
          "metadata": {},
          "execution_count": 106
        }
      ]
    },
    {
      "cell_type": "markdown",
      "metadata": {
        "id": "3DEqfiHB1mDg"
      },
      "source": [
        "Определим функцию очистки твитов."
      ]
    },
    {
      "cell_type": "code",
      "execution_count": null,
      "metadata": {
        "id": "R2XyMfr3Sha3"
      },
      "outputs": [],
      "source": [
        "# Удаляем пунктуацию, ссылки, упоминание других участников, символы конца строки и переноса \\r\\n\n",
        "def strip_all_entities(text):\n",
        "    text = text.replace('\\r', '').replace('\\n', ' ').lower() # удаляем \\n и \\r и переводим строку в нижний регистр\n",
        "    text = re.sub(r'[^\\w\\s]', '', text) # удаление всех символов, кроме букв и пробелов\n",
        "    text = re.sub(r'\\d+', '', text) # удаление всех чисел\n",
        "    return text\n",
        "\n",
        "# Удаление множественных пробелов\n",
        "def remove_mult_spaces(text):\n",
        "    return re.sub(\"\\s\\s+\", \" \", text)"
      ]
    },
    {
      "cell_type": "markdown",
      "metadata": {
        "id": "lZ2X47e64QwC"
      },
      "source": [
        "Применим функции для очистки твитов:"
      ]
    },
    {
      "cell_type": "code",
      "execution_count": null,
      "metadata": {
        "id": "NnbWZLiw7wKT"
      },
      "outputs": [],
      "source": [
        "texts_new = []\n",
        "for t in df.text:\n",
        "    texts_new.append(remove_mult_spaces(strip_all_entities(t)))"
      ]
    },
    {
      "cell_type": "code",
      "execution_count": null,
      "metadata": {
        "id": "OJYBtoXWGxf2"
      },
      "outputs": [],
      "source": [
        "texts_new_test = []\n",
        "for t in df_test.text:\n",
        "    texts_new_test.append(remove_mult_spaces(strip_all_entities(t)))"
      ]
    },
    {
      "cell_type": "markdown",
      "metadata": {
        "id": "mwZU77vH4zTp"
      },
      "source": [
        "Теперь мы можем создать новую колонку `text_clean`, как для обучающих, так и для тестовых наборов, для размещения очищенной версии текста твитов."
      ]
    },
    {
      "cell_type": "code",
      "execution_count": null,
      "metadata": {
        "id": "WhVsefgw7uqd"
      },
      "outputs": [],
      "source": [
        "df['text_clean'] = texts_new\n",
        "df_test['text_clean'] = texts_new_test"
      ]
    },
    {
      "cell_type": "code",
      "execution_count": null,
      "metadata": {
        "colab": {
          "base_uri": "https://localhost:8080/",
          "height": 240
        },
        "id": "XknC3sCYSha7",
        "outputId": "49511109-5152-4e8d-e43c-6ebc0cb58b3a"
      },
      "outputs": [
        {
          "output_type": "execute_result",
          "data": {
            "text/plain": [
              "307651    часто беру там обедхотелось бы чтобы ингредиен...\n",
              "346839    сам отель отличный чисто уютно комфортно очень...\n",
              "216171    всегда сдаю анализы только здесь спасибо всему...\n",
              "332822    возможно еда и интерьер достойны но ни в коем ...\n",
              "378645    комплекс располагается в невероятно живописном...\n",
              "Name: text_clean, dtype: object"
            ],
            "text/html": [
              "<div>\n",
              "<style scoped>\n",
              "    .dataframe tbody tr th:only-of-type {\n",
              "        vertical-align: middle;\n",
              "    }\n",
              "\n",
              "    .dataframe tbody tr th {\n",
              "        vertical-align: top;\n",
              "    }\n",
              "\n",
              "    .dataframe thead th {\n",
              "        text-align: right;\n",
              "    }\n",
              "</style>\n",
              "<table border=\"1\" class=\"dataframe\">\n",
              "  <thead>\n",
              "    <tr style=\"text-align: right;\">\n",
              "      <th></th>\n",
              "      <th>text_clean</th>\n",
              "    </tr>\n",
              "  </thead>\n",
              "  <tbody>\n",
              "    <tr>\n",
              "      <th>307651</th>\n",
              "      <td>часто беру там обедхотелось бы чтобы ингредиен...</td>\n",
              "    </tr>\n",
              "    <tr>\n",
              "      <th>346839</th>\n",
              "      <td>сам отель отличный чисто уютно комфортно очень...</td>\n",
              "    </tr>\n",
              "    <tr>\n",
              "      <th>216171</th>\n",
              "      <td>всегда сдаю анализы только здесь спасибо всему...</td>\n",
              "    </tr>\n",
              "    <tr>\n",
              "      <th>332822</th>\n",
              "      <td>возможно еда и интерьер достойны но ни в коем ...</td>\n",
              "    </tr>\n",
              "    <tr>\n",
              "      <th>378645</th>\n",
              "      <td>комплекс располагается в невероятно живописном...</td>\n",
              "    </tr>\n",
              "  </tbody>\n",
              "</table>\n",
              "</div><br><label><b>dtype:</b> object</label>"
            ]
          },
          "metadata": {},
          "execution_count": 111
        }
      ],
      "source": [
        "df['text_clean'].head()"
      ]
    },
    {
      "cell_type": "code",
      "execution_count": null,
      "metadata": {
        "colab": {
          "base_uri": "https://localhost:8080/"
        },
        "id": "w3_brNTpSha7",
        "outputId": "1f01d03a-ea91-4c2e-ace1-14591f68b8b9"
      },
      "outputs": [
        {
          "output_type": "execute_result",
          "data": {
            "text/plain": [
              "array(['сам отель отличный чисто уютно комфортно очень огорчило что нет кафе на территории отеля нужно было ходить а рядом мало всего и лифта нет мы жили на этаже ходили пешком',\n",
              "       'всегда сдаю анализы только здесь спасибо всему персоналу за отличное обслуживание и профессионализм',\n",
              "       'возможно еда и интерьер достойны но ни в коем случае не заказываете их через яндекседу ждал заказ часа на расстояние в километра блюда не могу оценить так как просто не довезли при оформлении заказа было указано время доставки минут в итоге готовили заказ долго потом отдали курьеру а он сначала поехал на другой адрес а потом пропал вообще по итогу яндекс отменили заказ сами в службу поддержки доставки ресторана сложно дозвониться яндексу вообще на все пофигу они ни за что не отвечают и могут вообще не привезти заказ как со мной и произошлов итоге испорченный вечер обеспечен',\n",
              "       'комплекс располагается в невероятно живописном месте крыма по дороге в новый свет у подножия горы сокол на склоне можжевеловой рощи nно этим его достоинства и оканчиваются все остальное как минимум не соответствует обозначенной стоимости и становится обычным примером бизнеса покрымски где вы платите высокую цену а получаете отдых с привкусом что вас гдето обманулиnосновные минусы которые хотелось бы отметить это n понимание сервиса редкий гость у обслуживающего персоналаn банный домик в котором комната отдыха с холодными полами дующим кондиционером ушатанным джакузи и отсутствием лежаков не доставит удовольствие от его посещенияn спуск к морю настоящая полоса препятствий летом такую сложно преодолеть да и награда по итогу вас ждет в виде пляжа где в воду чтобы зайти нужно быть человеком паукомnnв целом это типичный крымский отель куда во второй раз не хочется возвращаться',\n",
              "       'здание речного вокзала закрытодля ожидания есть площадь перед речным вокзалом под открытым небом и небольшой зал ожидания внутри здания где расположены кассы',\n",
              "       'замечательное место очень вкусный кофе десерты восхитительные но только если повезет попасть на свежие муравейник шикарный в любом виде его трудно испортить nзаказали яичницу поармянски к ней подали лаваш внутри него была небольшая плесень практически вся еда которую пробовали пресная недостаточно соли специй начинки минимум так же брали куриную пасторму она оказалась сырая девушка заверила что она не может быть сырой и ее покупают в готовом виде но увы она была сырая и отличалась от классической ее версии nочень уютно и чисто жаль что еда и качество десертов совершенно не соответствуют такому достойному месту nставлю крепкую тройку за стиль чистоту и вкусный кофе хорошее место для удаленной работы если там не есть ',\n",
              "       'коллектив отзывчивый питер люблю есть стандартный набор для дома организована работа и со спецами навигатор бьёт возможно уточнить у охраны прямо и на лево'],\n",
              "      dtype=object)"
            ]
          },
          "metadata": {},
          "execution_count": 112
        }
      ],
      "source": [
        "df['text_clean'][1:8].values"
      ]
    },
    {
      "cell_type": "markdown",
      "metadata": {
        "id": "Ab6yzZcR8smt"
      },
      "source": [
        "Также давайте создадим столбец для оценки длины очищенного текста, чтобы контролировать, а не удалили ли мы весь твит?"
      ]
    },
    {
      "cell_type": "code",
      "execution_count": null,
      "metadata": {
        "id": "Cauv5-xdSha7"
      },
      "outputs": [],
      "source": [
        "text_len = []\n",
        "for text in df.text_clean:\n",
        "    tweet_len = len(text.split())\n",
        "    text_len.append(tweet_len)"
      ]
    },
    {
      "cell_type": "code",
      "execution_count": null,
      "metadata": {
        "id": "bbNg3AKJSha7"
      },
      "outputs": [],
      "source": [
        "df['text_len'] = text_len"
      ]
    },
    {
      "cell_type": "code",
      "execution_count": null,
      "metadata": {
        "id": "JyPmZbbRSha8"
      },
      "outputs": [],
      "source": [
        "text_len_test = []\n",
        "for text in df_test.text_clean:\n",
        "    tweet_len = len(text.split())\n",
        "    text_len_test.append(tweet_len)"
      ]
    },
    {
      "cell_type": "code",
      "execution_count": null,
      "metadata": {
        "id": "KExBxxAuSha8"
      },
      "outputs": [],
      "source": [
        "df_test['text_len'] = text_len_test"
      ]
    },
    {
      "cell_type": "code",
      "execution_count": null,
      "metadata": {
        "colab": {
          "base_uri": "https://localhost:8080/",
          "height": 506
        },
        "id": "qkRi7qELSha8",
        "outputId": "111566bc-d928-48ba-ca18-0fc5c3c8143a"
      },
      "outputs": [
        {
          "output_type": "display_data",
          "data": {
            "text/plain": [
              "<Figure size 700x500 with 1 Axes>"
            ],
            "image/png": "[encoded data removed]"
          },
          "metadata": {}
        }
      ],
      "source": [
        "plt.figure(figsize=(7,5))\n",
        "ax = sns.countplot(x='text_len', data=df[df['text_len']<10], palette='mako')\n",
        "plt.title('Твиты с длиной сообщений менее 10 слов (обучающая выборка)')\n",
        "plt.yticks([])\n",
        "ax.bar_label(ax.containers[0])\n",
        "plt.ylabel('Число таких твитов')\n",
        "plt.xlabel('')\n",
        "plt.show()"
      ]
    },
    {
      "cell_type": "code",
      "execution_count": null,
      "metadata": {
        "colab": {
          "base_uri": "https://localhost:8080/",
          "height": 506
        },
        "id": "1ZWJiWjeSha8",
        "outputId": "1aad7157-683b-4e5d-9f03-0e617cc4dc87"
      },
      "outputs": [
        {
          "output_type": "display_data",
          "data": {
            "text/plain": [
              "<Figure size 700x500 with 1 Axes>"
            ],
            "image/png": "[encoded data removed]"
          },
          "metadata": {}
        }
      ],
      "source": [
        "plt.figure(figsize=(7,5))\n",
        "ax = sns.countplot(x='text_len', data=df_test[df_test['text_len']<10], palette='mako')\n",
        "plt.title('Твиты с длиной сообщений менее 10 слов (тестовая выборка)')\n",
        "plt.yticks([])\n",
        "ax.bar_label(ax.containers[0])\n",
        "plt.ylabel('Число таких твитов')\n",
        "plt.xlabel('')\n",
        "plt.show()"
      ]
    },
    {
      "cell_type": "code",
      "execution_count": null,
      "metadata": {
        "colab": {
          "base_uri": "https://localhost:8080/"
        },
        "id": "ZpQZUkBjSha8",
        "outputId": "997a32f0-fcfd-4a5f-bf24-355dff1d97b4"
      },
      "outputs": [
        {
          "output_type": "stream",
          "name": "stdout",
          "text": [
            "Форма обучающей выборки: (40000, 4)\n",
            "Форма тестовой выборки: (10000, 4)\n"
          ]
        }
      ],
      "source": [
        "print(f\"Форма обучающей выборки: {df.shape}\")\n",
        "print(f\"Форма тестовой выборки: {df_test.shape}\")"
      ]
    },
    {
      "cell_type": "code",
      "execution_count": null,
      "metadata": {
        "id": "y-2_3XoESha8"
      },
      "outputs": [],
      "source": [
        "df = df[df['text_len'] > 4] # удаляем из обучающей выборки твиты короче 4 слов"
      ]
    },
    {
      "cell_type": "code",
      "execution_count": null,
      "metadata": {
        "id": "JFf7AOcpSha8"
      },
      "outputs": [],
      "source": [
        "df_test = df_test[df_test['text_len'] > 4] # удаляем из тестовой выборки твиты короче 4 слов"
      ]
    },
    {
      "cell_type": "code",
      "execution_count": null,
      "metadata": {
        "colab": {
          "base_uri": "https://localhost:8080/"
        },
        "id": "hEP1nj8jSha8",
        "outputId": "fc37eb07-a68a-4f0d-b0d2-612d53f6c896"
      },
      "outputs": [
        {
          "output_type": "stream",
          "name": "stdout",
          "text": [
            "Форма обучающей выборки после очистки: (39786, 4)\n",
            "Форма тестовой выборки после очистки: (9938, 4)\n"
          ]
        }
      ],
      "source": [
        "print(f\"Форма обучающей выборки после очистки: {df.shape}\")\n",
        "print(f\"Форма тестовой выборки после очистки: {df_test.shape}\")"
      ]
    },
    {
      "cell_type": "markdown",
      "metadata": {
        "id": "ShTnv-5gBWRZ"
      },
      "source": [
        "### Токенизация"
      ]
    },
    {
      "cell_type": "markdown",
      "metadata": {
        "id": "VRVMLWCAByQj"
      },
      "source": [
        "Будем использовать предобученный BERT-токенизатор."
      ]
    },
    {
      "cell_type": "code",
      "execution_count": null,
      "metadata": {
        "id": "yhcer6jHSha9"
      },
      "outputs": [],
      "source": [
        "tokenizer = BertTokenizerFast.from_pretrained('DeepPavlov/bert-base-bg-cs-pl-ru-cased')"
      ]
    },
    {
      "cell_type": "markdown",
      "metadata": {
        "id": "0pkQG8U2B5y1"
      },
      "source": [
        "Применим токенизатор к \"очищенным\" данным:"
      ]
    },
    {
      "cell_type": "code",
      "execution_count": null,
      "metadata": {
        "id": "T3yeW_G3Sha9",
        "colab": {
          "base_uri": "https://localhost:8080/"
        },
        "outputId": "56596193-d711-40a4-c80c-a244bb96c762"
      },
      "outputs": [
        {
          "output_type": "stream",
          "name": "stdout",
          "text": [
            "Максимальная длина токенизированной последовательности: 512\n",
            "Средняя длина токенизированной последовательности: 92.77341275825667\n"
          ]
        }
      ],
      "source": [
        "\n",
        "token_lens = []\n",
        "\n",
        "for txt in df['text_clean'].values:\n",
        "    tokens = tokenizer.encode(txt, max_length=512, truncation=True)\n",
        "    token_lens.append(len(tokens))\n",
        "\n",
        "max_len = np.max(token_lens)\n",
        "mean_len = np.mean(token_lens)\n",
        "\n",
        "print(f\"Максимальная длина токенизированной последовательности: {max_len}\")\n",
        "print(f\"Средняя длина токенизированной последовательности: {mean_len}\")"
      ]
    },
    {
      "cell_type": "markdown",
      "metadata": {
        "id": "IsLj7iCJFUaF"
      },
      "source": [
        "Перетасуем его и сбросим индекс."
      ]
    },
    {
      "cell_type": "code",
      "execution_count": null,
      "metadata": {
        "id": "Kh5Y1sSUShbB"
      },
      "outputs": [],
      "source": [
        "df = df.sample(frac=1).reset_index(drop=True)"
      ]
    },
    {
      "cell_type": "markdown",
      "metadata": {
        "id": "hjvGMPiQFa4B"
      },
      "source": [
        "Повторим процедуру для тестовой выборки:"
      ]
    },
    {
      "cell_type": "code",
      "execution_count": null,
      "metadata": {
        "id": "Wbm88eAjShbC"
      },
      "outputs": [],
      "source": [
        "df_test = df_test.sample(frac=1).reset_index(drop=True)"
      ]
    },
    {
      "cell_type": "markdown",
      "source": [
        "### Анализ колонки rating"
      ],
      "metadata": {
        "id": "MTEZOAvTGmWW"
      }
    },
    {
      "cell_type": "code",
      "source": [
        "# Преобразование значений в столбце 'rating' в целые числа\n",
        "df['rating'] = df['rating'].astype(int)\n",
        "df_test['rating'] = df_test['rating'].astype(int)"
      ],
      "metadata": {
        "id": "fLWtBgalWe0E"
      },
      "execution_count": null,
      "outputs": []
    },
    {
      "cell_type": "code",
      "source": [
        "df['rating'].value_counts()"
      ],
      "metadata": {
        "colab": {
          "base_uri": "https://localhost:8080/",
          "height": 272
        },
        "id": "NUGxfe8mWm7I",
        "outputId": "fda83615-6496-41cd-d780-efdf92d7a1b2"
      },
      "execution_count": null,
      "outputs": [
        {
          "output_type": "execute_result",
          "data": {
            "text/plain": [
              "rating\n",
              "2    7985\n",
              "5    7972\n",
              "3    7953\n",
              "1    7939\n",
              "4    7937\n",
              "Name: count, dtype: int64"
            ],
            "text/html": [
              "<div>\n",
              "<style scoped>\n",
              "    .dataframe tbody tr th:only-of-type {\n",
              "        vertical-align: middle;\n",
              "    }\n",
              "\n",
              "    .dataframe tbody tr th {\n",
              "        vertical-align: top;\n",
              "    }\n",
              "\n",
              "    .dataframe thead th {\n",
              "        text-align: right;\n",
              "    }\n",
              "</style>\n",
              "<table border=\"1\" class=\"dataframe\">\n",
              "  <thead>\n",
              "    <tr style=\"text-align: right;\">\n",
              "      <th></th>\n",
              "      <th>count</th>\n",
              "    </tr>\n",
              "    <tr>\n",
              "      <th>rating</th>\n",
              "      <th></th>\n",
              "    </tr>\n",
              "  </thead>\n",
              "  <tbody>\n",
              "    <tr>\n",
              "      <th>2</th>\n",
              "      <td>7985</td>\n",
              "    </tr>\n",
              "    <tr>\n",
              "      <th>5</th>\n",
              "      <td>7972</td>\n",
              "    </tr>\n",
              "    <tr>\n",
              "      <th>3</th>\n",
              "      <td>7953</td>\n",
              "    </tr>\n",
              "    <tr>\n",
              "      <th>1</th>\n",
              "      <td>7939</td>\n",
              "    </tr>\n",
              "    <tr>\n",
              "      <th>4</th>\n",
              "      <td>7937</td>\n",
              "    </tr>\n",
              "  </tbody>\n",
              "</table>\n",
              "</div><br><label><b>dtype:</b> int64</label>"
            ]
          },
          "metadata": {},
          "execution_count": 128
        }
      ]
    },
    {
      "cell_type": "markdown",
      "source": [
        "### Балансировка классов"
      ],
      "metadata": {
        "id": "HRx9H0CWH_Xr"
      }
    },
    {
      "cell_type": "code",
      "source": [
        "# Создание экземпляра RandomOverSampler\n",
        "ros = RandomOverSampler()\n",
        "\n",
        "# Применение увеличения выборки к данным (X_resampled, y_resampled = ros.fit_resample(X, y))\n",
        "train_x, train_y = ros.fit_resample(np.array(df['text_clean']).reshape(-1, 1), np.array(df['rating']).reshape(-1, 1));\n",
        "\n",
        "# Снова объединим выборки в DataFrame\n",
        "train_os = pd.DataFrame(list(zip([x[0] for x in train_x], train_y)), columns = ['text_clean', 'rating']);"
      ],
      "metadata": {
        "execution": {
          "iopub.status.busy": "2021-12-22T21:16:47.601159Z",
          "iopub.execute_input": "2021-12-22T21:16:47.601752Z",
          "iopub.status.idle": "2021-12-22T21:16:47.697589Z",
          "shell.execute_reply.started": "2021-12-22T21:16:47.601678Z",
          "shell.execute_reply": "2021-12-22T21:16:47.696904Z"
        },
        "trusted": true,
        "id": "si2HAB1kShbD"
      },
      "execution_count": null,
      "outputs": []
    },
    {
      "cell_type": "code",
      "source": [
        "train_os['rating'].value_counts()"
      ],
      "metadata": {
        "execution": {
          "iopub.status.busy": "2021-12-22T21:16:47.698691Z",
          "iopub.execute_input": "2021-12-22T21:16:47.698926Z",
          "iopub.status.idle": "2021-12-22T21:16:47.705998Z",
          "shell.execute_reply.started": "2021-12-22T21:16:47.698894Z",
          "shell.execute_reply": "2021-12-22T21:16:47.70527Z"
        },
        "trusted": true,
        "id": "1BwLYilNShbD",
        "outputId": "27d82e47-54c8-45bc-b3ce-3882a1c097d6",
        "colab": {
          "base_uri": "https://localhost:8080/",
          "height": 272
        }
      },
      "execution_count": null,
      "outputs": [
        {
          "output_type": "execute_result",
          "data": {
            "text/plain": [
              "rating\n",
              "1    7985\n",
              "3    7985\n",
              "2    7985\n",
              "4    7985\n",
              "5    7985\n",
              "Name: count, dtype: int64"
            ],
            "text/html": [
              "<div>\n",
              "<style scoped>\n",
              "    .dataframe tbody tr th:only-of-type {\n",
              "        vertical-align: middle;\n",
              "    }\n",
              "\n",
              "    .dataframe tbody tr th {\n",
              "        vertical-align: top;\n",
              "    }\n",
              "\n",
              "    .dataframe thead th {\n",
              "        text-align: right;\n",
              "    }\n",
              "</style>\n",
              "<table border=\"1\" class=\"dataframe\">\n",
              "  <thead>\n",
              "    <tr style=\"text-align: right;\">\n",
              "      <th></th>\n",
              "      <th>count</th>\n",
              "    </tr>\n",
              "    <tr>\n",
              "      <th>rating</th>\n",
              "      <th></th>\n",
              "    </tr>\n",
              "  </thead>\n",
              "  <tbody>\n",
              "    <tr>\n",
              "      <th>1</th>\n",
              "      <td>7985</td>\n",
              "    </tr>\n",
              "    <tr>\n",
              "      <th>3</th>\n",
              "      <td>7985</td>\n",
              "    </tr>\n",
              "    <tr>\n",
              "      <th>2</th>\n",
              "      <td>7985</td>\n",
              "    </tr>\n",
              "    <tr>\n",
              "      <th>4</th>\n",
              "      <td>7985</td>\n",
              "    </tr>\n",
              "    <tr>\n",
              "      <th>5</th>\n",
              "      <td>7985</td>\n",
              "    </tr>\n",
              "  </tbody>\n",
              "</table>\n",
              "</div><br><label><b>dtype:</b> int64</label>"
            ]
          },
          "metadata": {},
          "execution_count": 130
        }
      ]
    },
    {
      "cell_type": "markdown",
      "source": [
        "### Обучающая, проверочная и тестовая выборки"
      ],
      "metadata": {
        "id": "g0KRYieSJ5P7"
      }
    },
    {
      "cell_type": "code",
      "source": [
        "X = train_os['text_clean'].values\n",
        "y = train_os['rating'].values"
      ],
      "metadata": {
        "execution": {
          "iopub.status.busy": "2021-12-22T21:16:47.713125Z",
          "iopub.execute_input": "2021-12-22T21:16:47.713316Z",
          "iopub.status.idle": "2021-12-22T21:16:47.717547Z",
          "shell.execute_reply.started": "2021-12-22T21:16:47.713294Z",
          "shell.execute_reply": "2021-12-22T21:16:47.716647Z"
        },
        "trusted": true,
        "id": "03bd7qIjShbD"
      },
      "execution_count": null,
      "outputs": []
    },
    {
      "cell_type": "markdown",
      "source": [
        "Набор для проверки будет извлечен из обучающего набора для контроля точности обучения и предотвращения переобучения."
      ],
      "metadata": {
        "id": "pSCE9Yg-KN1V"
      }
    },
    {
      "cell_type": "code",
      "source": [
        "X_train, X_valid, y_train, y_valid = train_test_split(X, y, test_size=0.1, stratify=y, random_state=seed)"
      ],
      "metadata": {
        "execution": {
          "iopub.status.busy": "2021-12-22T21:16:47.718981Z",
          "iopub.execute_input": "2021-12-22T21:16:47.719469Z",
          "iopub.status.idle": "2021-12-22T21:16:47.761536Z",
          "shell.execute_reply.started": "2021-12-22T21:16:47.719431Z",
          "shell.execute_reply": "2021-12-22T21:16:47.760925Z"
        },
        "trusted": true,
        "id": "lIgrchZGShbE"
      },
      "execution_count": null,
      "outputs": []
    },
    {
      "cell_type": "code",
      "source": [
        "X_test = df_test['text_clean'].values\n",
        "y_test = df_test['rating'].values"
      ],
      "metadata": {
        "execution": {
          "iopub.status.busy": "2021-12-22T21:16:47.762757Z",
          "iopub.execute_input": "2021-12-22T21:16:47.763Z",
          "iopub.status.idle": "2021-12-22T21:16:47.768878Z",
          "shell.execute_reply.started": "2021-12-22T21:16:47.762967Z",
          "shell.execute_reply": "2021-12-22T21:16:47.76812Z"
        },
        "trusted": true,
        "id": "xN-r0UVXShbE"
      },
      "execution_count": null,
      "outputs": []
    },
    {
      "cell_type": "code",
      "source": [
        "y_test"
      ],
      "metadata": {
        "colab": {
          "base_uri": "https://localhost:8080/"
        },
        "id": "wCSJN2_v6tix",
        "outputId": "535ba8f2-0bb1-4469-dc2e-355ab35b617d"
      },
      "execution_count": null,
      "outputs": [
        {
          "output_type": "execute_result",
          "data": {
            "text/plain": [
              "array([5, 3, 2, ..., 5, 4, 5])"
            ]
          },
          "metadata": {},
          "execution_count": 134
        }
      ]
    },
    {
      "cell_type": "markdown",
      "source": [
        "### One hot encoding"
      ],
      "metadata": {
        "id": "LAUMQp-8K3f0"
      }
    },
    {
      "cell_type": "markdown",
      "source": [
        "Закодируем метки с помощью, хорошо знакомого нам, метода One hot encoding. Зачем мы это делаем? Это стандарт для задач классификации (вспоминаем более ранние уроки)!   "
      ],
      "metadata": {
        "id": "3eOWiFgiK52Q"
      }
    },
    {
      "cell_type": "markdown",
      "source": [
        "Также сделаем копии наших выборок, они нам еще пригодятся:"
      ],
      "metadata": {
        "id": "Iv0JwU31M8o4"
      }
    },
    {
      "cell_type": "code",
      "source": [
        "y_train_le = y_train.copy()\n",
        "y_valid_le = y_valid.copy()\n",
        "y_test_le = y_test.copy()"
      ],
      "metadata": {
        "execution": {
          "iopub.status.busy": "2021-12-22T21:16:47.770333Z",
          "iopub.execute_input": "2021-12-22T21:16:47.770915Z",
          "iopub.status.idle": "2021-12-22T21:16:47.776791Z",
          "shell.execute_reply.started": "2021-12-22T21:16:47.770878Z",
          "shell.execute_reply": "2021-12-22T21:16:47.776179Z"
        },
        "trusted": true,
        "id": "IwHy3y47ShbE"
      },
      "execution_count": null,
      "outputs": []
    },
    {
      "cell_type": "code",
      "source": [
        "ohe = preprocessing.OneHotEncoder() # создаем экземпляр класса OneHotEncoder()\n",
        "\n",
        "# Формируем кодированные OHE метки для тренировочной, проверочной и тестовой выборок\n",
        "y_train = ohe.fit_transform(np.array(y_train).reshape(-1, 1)).toarray()\n",
        "y_valid = ohe.fit_transform(np.array(y_valid).reshape(-1, 1)).toarray()\n",
        "y_test = ohe.fit_transform(np.array(y_test).reshape(-1, 1)).toarray()"
      ],
      "metadata": {
        "execution": {
          "iopub.status.busy": "2021-12-22T21:16:47.778211Z",
          "iopub.execute_input": "2021-12-22T21:16:47.778775Z",
          "iopub.status.idle": "2021-12-22T21:16:47.791468Z",
          "shell.execute_reply.started": "2021-12-22T21:16:47.778739Z",
          "shell.execute_reply": "2021-12-22T21:16:47.790847Z"
        },
        "trusted": true,
        "id": "9cgHliaLShbE"
      },
      "execution_count": null,
      "outputs": []
    },
    {
      "cell_type": "code",
      "source": [
        "print(f\"Тренировочная выборка: {X_train.shape[0]}\")\n",
        "print(f\"Проверочная выборка: {X_valid.shape[0]}\")\n",
        "print(f\"Тестовая выборка: {X_test.shape[0]}\")"
      ],
      "metadata": {
        "colab": {
          "base_uri": "https://localhost:8080/"
        },
        "id": "CgjpwJleNsEw",
        "outputId": "9e41dc50-6645-4fa0-8a86-040a08a0aac9"
      },
      "execution_count": null,
      "outputs": [
        {
          "output_type": "stream",
          "name": "stdout",
          "text": [
            "Тренировочная выборка: 35932\n",
            "Проверочная выборка: 3993\n",
            "Тестовая выборка: 9938\n"
          ]
        }
      ]
    },
    {
      "cell_type": "markdown",
      "source": [
        "### Базовая модель: Наивный байесовский классификатор"
      ],
      "metadata": {
        "id": "jguO1qA-OHKz"
      }
    },
    {
      "cell_type": "markdown",
      "source": [
        "Мы будем в качестве отправной точки использовать \"Наивный байесовский классификатор\", как простейшую модель классического машинного обучения и обучим ее классифицировать наши твиты:"
      ],
      "metadata": {
        "id": "2mEmVr1SVIJZ"
      }
    },
    {
      "cell_type": "markdown",
      "source": [
        "Токенизируем твиты, используя CountVectorizer:"
      ],
      "metadata": {
        "id": "6M8NecOhVvMr"
      }
    },
    {
      "cell_type": "code",
      "source": [
        "clf = CountVectorizer()\n",
        "X_train_cv =  clf.fit_transform(X_train)\n",
        "X_test_cv = clf.transform(X_test)"
      ],
      "metadata": {
        "execution": {
          "iopub.status.busy": "2021-12-22T21:16:47.79882Z",
          "iopub.execute_input": "2021-12-22T21:16:47.799076Z",
          "iopub.status.idle": "2021-12-22T21:16:49.887448Z",
          "shell.execute_reply.started": "2021-12-22T21:16:47.799042Z",
          "shell.execute_reply": "2021-12-22T21:16:49.886665Z"
        },
        "trusted": true,
        "id": "1UK6Iw4LShbF"
      },
      "execution_count": null,
      "outputs": []
    },
    {
      "cell_type": "markdown",
      "source": [
        "Преобразуем токенизированные твиты в формат TF-IDF (частота использования термина, умноженная на частоту использования документа):"
      ],
      "metadata": {
        "id": "7RK9kuR7V8I_"
      }
    },
    {
      "cell_type": "code",
      "source": [
        "tf_transformer = TfidfTransformer(use_idf=True).fit(X_train_cv)\n",
        "X_train_tf = tf_transformer.transform(X_train_cv)\n",
        "X_test_tf = tf_transformer.transform(X_test_cv)"
      ],
      "metadata": {
        "execution": {
          "iopub.status.busy": "2021-12-22T21:16:49.888669Z",
          "iopub.execute_input": "2021-12-22T21:16:49.890719Z",
          "iopub.status.idle": "2021-12-22T21:16:49.984621Z",
          "shell.execute_reply.started": "2021-12-22T21:16:49.890677Z",
          "shell.execute_reply": "2021-12-22T21:16:49.983725Z"
        },
        "trusted": true,
        "id": "Z8ebXN4ZShbF"
      },
      "execution_count": null,
      "outputs": []
    },
    {
      "cell_type": "markdown",
      "source": [
        "Создаем модель наивного байесовского классификатора:"
      ],
      "metadata": {
        "id": "W0vTytF0WWTB"
      }
    },
    {
      "cell_type": "code",
      "source": [
        "nb_clf = MultinomialNB()"
      ],
      "metadata": {
        "execution": {
          "iopub.status.busy": "2021-12-22T21:16:49.985855Z",
          "iopub.execute_input": "2021-12-22T21:16:49.986537Z",
          "iopub.status.idle": "2021-12-22T21:16:49.990851Z",
          "shell.execute_reply.started": "2021-12-22T21:16:49.986496Z",
          "shell.execute_reply": "2021-12-22T21:16:49.989982Z"
        },
        "trusted": true,
        "id": "m9vdtXi-ShbF"
      },
      "execution_count": null,
      "outputs": []
    },
    {
      "cell_type": "code",
      "source": [
        "nb_clf.fit(X_train_tf, y_train_le)"
      ],
      "metadata": {
        "execution": {
          "iopub.status.busy": "2021-12-22T21:16:49.992138Z",
          "iopub.execute_input": "2021-12-22T21:16:49.992559Z",
          "iopub.status.idle": "2021-12-22T21:16:50.02363Z",
          "shell.execute_reply.started": "2021-12-22T21:16:49.992487Z",
          "shell.execute_reply": "2021-12-22T21:16:50.022914Z"
        },
        "trusted": true,
        "id": "m7dLh304ShbF",
        "outputId": "b8d16f40-4c76-454d-db1f-91f60b28dbf4",
        "colab": {
          "base_uri": "https://localhost:8080/",
          "height": 79
        }
      },
      "execution_count": null,
      "outputs": [
        {
          "output_type": "execute_result",
          "data": {
            "text/plain": [
              "MultinomialNB()"
            ],
            "text/html": [
              "<style>#sk-container-id-2 {\n",
              "  /* Definition of color scheme common for light and dark mode */\n",
              "  --sklearn-color-text: black;\n",
              "  --sklearn-color-line: gray;\n",
              "  /* Definition of color scheme for unfitted estimators */\n",
              "  --sklearn-color-unfitted-level-0: #fff5e6;\n",
              "  --sklearn-color-unfitted-level-1: #f6e4d2;\n",
              "  --sklearn-color-unfitted-level-2: #ffe0b3;\n",
              "  --sklearn-color-unfitted-level-3: chocolate;\n",
              "  /* Definition of color scheme for fitted estimators */\n",
              "  --sklearn-color-fitted-level-0: #f0f8ff;\n",
              "  --sklearn-color-fitted-level-1: #d4ebff;\n",
              "  --sklearn-color-fitted-level-2: #b3dbfd;\n",
              "  --sklearn-color-fitted-level-3: cornflowerblue;\n",
              "\n",
              "  /* Specific color for light theme */\n",
              "  --sklearn-color-text-on-default-background: var(--sg-text-color, var(--theme-code-foreground, var(--jp-content-font-color1, black)));\n",
              "  --sklearn-color-background: var(--sg-background-color, var(--theme-background, var(--jp-layout-color0, white)));\n",
              "  --sklearn-color-border-box: var(--sg-text-color, var(--theme-code-foreground, var(--jp-content-font-color1, black)));\n",
              "  --sklearn-color-icon: #696969;\n",
              "\n",
              "  @media (prefers-color-scheme: dark) {\n",
              "    /* Redefinition of color scheme for dark theme */\n",
              "    --sklearn-color-text-on-default-background: var(--sg-text-color, var(--theme-code-foreground, var(--jp-content-font-color1, white)));\n",
              "    --sklearn-color-background: var(--sg-background-color, var(--theme-background, var(--jp-layout-color0, #111)));\n",
              "    --sklearn-color-border-box: var(--sg-text-color, var(--theme-code-foreground, var(--jp-content-font-color1, white)));\n",
              "    --sklearn-color-icon: #878787;\n",
              "  }\n",
              "}\n",
              "\n",
              "#sk-container-id-2 {\n",
              "  color: var(--sklearn-color-text);\n",
              "}\n",
              "\n",
              "#sk-container-id-2 pre {\n",
              "  padding: 0;\n",
              "}\n",
              "\n",
              "#sk-container-id-2 input.sk-hidden--visually {\n",
              "  border: 0;\n",
              "  clip: rect(1px 1px 1px 1px);\n",
              "  clip: rect(1px, 1px, 1px, 1px);\n",
              "  height: 1px;\n",
              "  margin: -1px;\n",
              "  overflow: hidden;\n",
              "  padding: 0;\n",
              "  position: absolute;\n",
              "  width: 1px;\n",
              "}\n",
              "\n",
              "#sk-container-id-2 div.sk-dashed-wrapped {\n",
              "  border: 1px dashed var(--sklearn-color-line);\n",
              "  margin: 0 0.4em 0.5em 0.4em;\n",
              "  box-sizing: border-box;\n",
              "  padding-bottom: 0.4em;\n",
              "  background-color: var(--sklearn-color-background);\n",
              "}\n",
              "\n",
              "#sk-container-id-2 div.sk-container {\n",
              "  /* jupyter's `normalize.less` sets `[hidden] { display: none; }`\n",
              "     but bootstrap.min.css set `[hidden] { display: none !important; }`\n",
              "     so we also need the `!important` here to be able to override the\n",
              "     default hidden behavior on the sphinx rendered scikit-learn.org.\n",
              "     See: https://github.com/scikit-learn/scikit-learn/issues/21755 */\n",
              "  display: inline-block !important;\n",
              "  position: relative;\n",
              "}\n",
              "\n",
              "#sk-container-id-2 div.sk-text-repr-fallback {\n",
              "  display: none;\n",
              "}\n",
              "\n",
              "div.sk-parallel-item,\n",
              "div.sk-serial,\n",
              "div.sk-item {\n",
              "  /* draw centered vertical line to link estimators */\n",
              "  background-image: linear-gradient(var(--sklearn-color-text-on-default-background), var(--sklearn-color-text-on-default-background));\n",
              "  background-size: 2px 100%;\n",
              "  background-repeat: no-repeat;\n",
              "  background-position: center center;\n",
              "}\n",
              "\n",
              "/* Parallel-specific style estimator block */\n",
              "\n",
              "#sk-container-id-2 div.sk-parallel-item::after {\n",
              "  content: \"\";\n",
              "  width: 100%;\n",
              "  border-bottom: 2px solid var(--sklearn-color-text-on-default-background);\n",
              "  flex-grow: 1;\n",
              "}\n",
              "\n",
              "#sk-container-id-2 div.sk-parallel {\n",
              "  display: flex;\n",
              "  align-items: stretch;\n",
              "  justify-content: center;\n",
              "  background-color: var(--sklearn-color-background);\n",
              "  position: relative;\n",
              "}\n",
              "\n",
              "#sk-container-id-2 div.sk-parallel-item {\n",
              "  display: flex;\n",
              "  flex-direction: column;\n",
              "}\n",
              "\n",
              "#sk-container-id-2 div.sk-parallel-item:first-child::after {\n",
              "  align-self: flex-end;\n",
              "  width: 50%;\n",
              "}\n",
              "\n",
              "#sk-container-id-2 div.sk-parallel-item:last-child::after {\n",
              "  align-self: flex-start;\n",
              "  width: 50%;\n",
              "}\n",
              "\n",
              "#sk-container-id-2 div.sk-parallel-item:only-child::after {\n",
              "  width: 0;\n",
              "}\n",
              "\n",
              "/* Serial-specific style estimator block */\n",
              "\n",
              "#sk-container-id-2 div.sk-serial {\n",
              "  display: flex;\n",
              "  flex-direction: column;\n",
              "  align-items: center;\n",
              "  background-color: var(--sklearn-color-background);\n",
              "  padding-right: 1em;\n",
              "  padding-left: 1em;\n",
              "}\n",
              "\n",
              "\n",
              "/* Toggleable style: style used for estimator/Pipeline/ColumnTransformer box that is\n",
              "clickable and can be expanded/collapsed.\n",
              "- Pipeline and ColumnTransformer use this feature and define the default style\n",
              "- Estimators will overwrite some part of the style using the `sk-estimator` class\n",
              "*/\n",
              "\n",
              "/* Pipeline and ColumnTransformer style (default) */\n",
              "\n",
              "#sk-container-id-2 div.sk-toggleable {\n",
              "  /* Default theme specific background. It is overwritten whether we have a\n",
              "  specific estimator or a Pipeline/ColumnTransformer */\n",
              "  background-color: var(--sklearn-color-background);\n",
              "}\n",
              "\n",
              "/* Toggleable label */\n",
              "#sk-container-id-2 label.sk-toggleable__label {\n",
              "  cursor: pointer;\n",
              "  display: block;\n",
              "  width: 100%;\n",
              "  margin-bottom: 0;\n",
              "  padding: 0.5em;\n",
              "  box-sizing: border-box;\n",
              "  text-align: center;\n",
              "}\n",
              "\n",
              "#sk-container-id-2 label.sk-toggleable__label-arrow:before {\n",
              "  /* Arrow on the left of the label */\n",
              "  content: \"▸\";\n",
              "  float: left;\n",
              "  margin-right: 0.25em;\n",
              "  color: var(--sklearn-color-icon);\n",
              "}\n",
              "\n",
              "#sk-container-id-2 label.sk-toggleable__label-arrow:hover:before {\n",
              "  color: var(--sklearn-color-text);\n",
              "}\n",
              "\n",
              "/* Toggleable content - dropdown */\n",
              "\n",
              "#sk-container-id-2 div.sk-toggleable__content {\n",
              "  max-height: 0;\n",
              "  max-width: 0;\n",
              "  overflow: hidden;\n",
              "  text-align: left;\n",
              "  /* unfitted */\n",
              "  background-color: var(--sklearn-color-unfitted-level-0);\n",
              "}\n",
              "\n",
              "#sk-container-id-2 div.sk-toggleable__content.fitted {\n",
              "  /* fitted */\n",
              "  background-color: var(--sklearn-color-fitted-level-0);\n",
              "}\n",
              "\n",
              "#sk-container-id-2 div.sk-toggleable__content pre {\n",
              "  margin: 0.2em;\n",
              "  border-radius: 0.25em;\n",
              "  color: var(--sklearn-color-text);\n",
              "  /* unfitted */\n",
              "  background-color: var(--sklearn-color-unfitted-level-0);\n",
              "}\n",
              "\n",
              "#sk-container-id-2 div.sk-toggleable__content.fitted pre {\n",
              "  /* unfitted */\n",
              "  background-color: var(--sklearn-color-fitted-level-0);\n",
              "}\n",
              "\n",
              "#sk-container-id-2 input.sk-toggleable__control:checked~div.sk-toggleable__content {\n",
              "  /* Expand drop-down */\n",
              "  max-height: 200px;\n",
              "  max-width: 100%;\n",
              "  overflow: auto;\n",
              "}\n",
              "\n",
              "#sk-container-id-2 input.sk-toggleable__control:checked~label.sk-toggleable__label-arrow:before {\n",
              "  content: \"▾\";\n",
              "}\n",
              "\n",
              "/* Pipeline/ColumnTransformer-specific style */\n",
              "\n",
              "#sk-container-id-2 div.sk-label input.sk-toggleable__control:checked~label.sk-toggleable__label {\n",
              "  color: var(--sklearn-color-text);\n",
              "  background-color: var(--sklearn-color-unfitted-level-2);\n",
              "}\n",
              "\n",
              "#sk-container-id-2 div.sk-label.fitted input.sk-toggleable__control:checked~label.sk-toggleable__label {\n",
              "  background-color: var(--sklearn-color-fitted-level-2);\n",
              "}\n",
              "\n",
              "/* Estimator-specific style */\n",
              "\n",
              "/* Colorize estimator box */\n",
              "#sk-container-id-2 div.sk-estimator input.sk-toggleable__control:checked~label.sk-toggleable__label {\n",
              "  /* unfitted */\n",
              "  background-color: var(--sklearn-color-unfitted-level-2);\n",
              "}\n",
              "\n",
              "#sk-container-id-2 div.sk-estimator.fitted input.sk-toggleable__control:checked~label.sk-toggleable__label {\n",
              "  /* fitted */\n",
              "  background-color: var(--sklearn-color-fitted-level-2);\n",
              "}\n",
              "\n",
              "#sk-container-id-2 div.sk-label label.sk-toggleable__label,\n",
              "#sk-container-id-2 div.sk-label label {\n",
              "  /* The background is the default theme color */\n",
              "  color: var(--sklearn-color-text-on-default-background);\n",
              "}\n",
              "\n",
              "/* On hover, darken the color of the background */\n",
              "#sk-container-id-2 div.sk-label:hover label.sk-toggleable__label {\n",
              "  color: var(--sklearn-color-text);\n",
              "  background-color: var(--sklearn-color-unfitted-level-2);\n",
              "}\n",
              "\n",
              "/* Label box, darken color on hover, fitted */\n",
              "#sk-container-id-2 div.sk-label.fitted:hover label.sk-toggleable__label.fitted {\n",
              "  color: var(--sklearn-color-text);\n",
              "  background-color: var(--sklearn-color-fitted-level-2);\n",
              "}\n",
              "\n",
              "/* Estimator label */\n",
              "\n",
              "#sk-container-id-2 div.sk-label label {\n",
              "  font-family: monospace;\n",
              "  font-weight: bold;\n",
              "  display: inline-block;\n",
              "  line-height: 1.2em;\n",
              "}\n",
              "\n",
              "#sk-container-id-2 div.sk-label-container {\n",
              "  text-align: center;\n",
              "}\n",
              "\n",
              "/* Estimator-specific */\n",
              "#sk-container-id-2 div.sk-estimator {\n",
              "  font-family: monospace;\n",
              "  border: 1px dotted var(--sklearn-color-border-box);\n",
              "  border-radius: 0.25em;\n",
              "  box-sizing: border-box;\n",
              "  margin-bottom: 0.5em;\n",
              "  /* unfitted */\n",
              "  background-color: var(--sklearn-color-unfitted-level-0);\n",
              "}\n",
              "\n",
              "#sk-container-id-2 div.sk-estimator.fitted {\n",
              "  /* fitted */\n",
              "  background-color: var(--sklearn-color-fitted-level-0);\n",
              "}\n",
              "\n",
              "/* on hover */\n",
              "#sk-container-id-2 div.sk-estimator:hover {\n",
              "  /* unfitted */\n",
              "  background-color: var(--sklearn-color-unfitted-level-2);\n",
              "}\n",
              "\n",
              "#sk-container-id-2 div.sk-estimator.fitted:hover {\n",
              "  /* fitted */\n",
              "  background-color: var(--sklearn-color-fitted-level-2);\n",
              "}\n",
              "\n",
              "/* Specification for estimator info (e.g. \"i\" and \"?\") */\n",
              "\n",
              "/* Common style for \"i\" and \"?\" */\n",
              "\n",
              ".sk-estimator-doc-link,\n",
              "a:link.sk-estimator-doc-link,\n",
              "a:visited.sk-estimator-doc-link {\n",
              "  float: right;\n",
              "  font-size: smaller;\n",
              "  line-height: 1em;\n",
              "  font-family: monospace;\n",
              "  background-color: var(--sklearn-color-background);\n",
              "  border-radius: 1em;\n",
              "  height: 1em;\n",
              "  width: 1em;\n",
              "  text-decoration: none !important;\n",
              "  margin-left: 1ex;\n",
              "  /* unfitted */\n",
              "  border: var(--sklearn-color-unfitted-level-1) 1pt solid;\n",
              "  color: var(--sklearn-color-unfitted-level-1);\n",
              "}\n",
              "\n",
              ".sk-estimator-doc-link.fitted,\n",
              "a:link.sk-estimator-doc-link.fitted,\n",
              "a:visited.sk-estimator-doc-link.fitted {\n",
              "  /* fitted */\n",
              "  border: var(--sklearn-color-fitted-level-1) 1pt solid;\n",
              "  color: var(--sklearn-color-fitted-level-1);\n",
              "}\n",
              "\n",
              "/* On hover */\n",
              "div.sk-estimator:hover .sk-estimator-doc-link:hover,\n",
              ".sk-estimator-doc-link:hover,\n",
              "div.sk-label-container:hover .sk-estimator-doc-link:hover,\n",
              ".sk-estimator-doc-link:hover {\n",
              "  /* unfitted */\n",
              "  background-color: var(--sklearn-color-unfitted-level-3);\n",
              "  color: var(--sklearn-color-background);\n",
              "  text-decoration: none;\n",
              "}\n",
              "\n",
              "div.sk-estimator.fitted:hover .sk-estimator-doc-link.fitted:hover,\n",
              ".sk-estimator-doc-link.fitted:hover,\n",
              "div.sk-label-container:hover .sk-estimator-doc-link.fitted:hover,\n",
              ".sk-estimator-doc-link.fitted:hover {\n",
              "  /* fitted */\n",
              "  background-color: var(--sklearn-color-fitted-level-3);\n",
              "  color: var(--sklearn-color-background);\n",
              "  text-decoration: none;\n",
              "}\n",
              "\n",
              "/* Span, style for the box shown on hovering the info icon */\n",
              ".sk-estimator-doc-link span {\n",
              "  display: none;\n",
              "  z-index: 9999;\n",
              "  position: relative;\n",
              "  font-weight: normal;\n",
              "  right: .2ex;\n",
              "  padding: .5ex;\n",
              "  margin: .5ex;\n",
              "  width: min-content;\n",
              "  min-width: 20ex;\n",
              "  max-width: 50ex;\n",
              "  color: var(--sklearn-color-text);\n",
              "  box-shadow: 2pt 2pt 4pt #999;\n",
              "  /* unfitted */\n",
              "  background: var(--sklearn-color-unfitted-level-0);\n",
              "  border: .5pt solid var(--sklearn-color-unfitted-level-3);\n",
              "}\n",
              "\n",
              ".sk-estimator-doc-link.fitted span {\n",
              "  /* fitted */\n",
              "  background: var(--sklearn-color-fitted-level-0);\n",
              "  border: var(--sklearn-color-fitted-level-3);\n",
              "}\n",
              "\n",
              ".sk-estimator-doc-link:hover span {\n",
              "  display: block;\n",
              "}\n",
              "\n",
              "/* \"?\"-specific style due to the `<a>` HTML tag */\n",
              "\n",
              "#sk-container-id-2 a.estimator_doc_link {\n",
              "  float: right;\n",
              "  font-size: 1rem;\n",
              "  line-height: 1em;\n",
              "  font-family: monospace;\n",
              "  background-color: var(--sklearn-color-background);\n",
              "  border-radius: 1rem;\n",
              "  height: 1rem;\n",
              "  width: 1rem;\n",
              "  text-decoration: none;\n",
              "  /* unfitted */\n",
              "  color: var(--sklearn-color-unfitted-level-1);\n",
              "  border: var(--sklearn-color-unfitted-level-1) 1pt solid;\n",
              "}\n",
              "\n",
              "#sk-container-id-2 a.estimator_doc_link.fitted {\n",
              "  /* fitted */\n",
              "  border: var(--sklearn-color-fitted-level-1) 1pt solid;\n",
              "  color: var(--sklearn-color-fitted-level-1);\n",
              "}\n",
              "\n",
              "/* On hover */\n",
              "#sk-container-id-2 a.estimator_doc_link:hover {\n",
              "  /* unfitted */\n",
              "  background-color: var(--sklearn-color-unfitted-level-3);\n",
              "  color: var(--sklearn-color-background);\n",
              "  text-decoration: none;\n",
              "}\n",
              "\n",
              "#sk-container-id-2 a.estimator_doc_link.fitted:hover {\n",
              "  /* fitted */\n",
              "  background-color: var(--sklearn-color-fitted-level-3);\n",
              "}\n",
              "</style><div id=\"sk-container-id-2\" class=\"sk-top-container\"><div class=\"sk-text-repr-fallback\"><pre>MultinomialNB()</pre><b>In a Jupyter environment, please rerun this cell to show the HTML representation or trust the notebook. <br />On GitHub, the HTML representation is unable to render, please try loading this page with nbviewer.org.</b></div><div class=\"sk-container\" hidden><div class=\"sk-item\"><div class=\"sk-estimator fitted sk-toggleable\"><input class=\"sk-toggleable__control sk-hidden--visually\" id=\"sk-estimator-id-2\" type=\"checkbox\" checked><label for=\"sk-estimator-id-2\" class=\"sk-toggleable__label fitted sk-toggleable__label-arrow fitted\">&nbsp;&nbsp;MultinomialNB<a class=\"sk-estimator-doc-link fitted\" rel=\"noreferrer\" target=\"_blank\" href=\"https://scikit-learn.org/1.5/modules/generated/sklearn.naive_bayes.MultinomialNB.html\">?<span>Documentation for MultinomialNB</span></a><span class=\"sk-estimator-doc-link fitted\">i<span>Fitted</span></span></label><div class=\"sk-toggleable__content fitted\"><pre>MultinomialNB()</pre></div> </div></div></div></div>"
            ]
          },
          "metadata": {},
          "execution_count": 141
        }
      ]
    },
    {
      "cell_type": "markdown",
      "source": [
        "Запустим предсказание на тестовой выборке:"
      ],
      "metadata": {
        "id": "NNSWc6iFWnYl"
      }
    },
    {
      "cell_type": "code",
      "source": [
        "nb_pred = nb_clf.predict(X_test_tf)"
      ],
      "metadata": {
        "execution": {
          "iopub.status.busy": "2021-12-22T21:16:50.025595Z",
          "iopub.execute_input": "2021-12-22T21:16:50.0258Z",
          "iopub.status.idle": "2021-12-22T21:16:50.033226Z",
          "shell.execute_reply.started": "2021-12-22T21:16:50.025776Z",
          "shell.execute_reply": "2021-12-22T21:16:50.032277Z"
        },
        "trusted": true,
        "id": "GQgwlhWRShbF"
      },
      "execution_count": null,
      "outputs": []
    },
    {
      "cell_type": "markdown",
      "source": [
        "Выведем метрики с помощью метода `classification_report` библиотеки `sklearn`:"
      ],
      "metadata": {
        "id": "QdtfcMt3Wsfj"
      }
    },
    {
      "cell_type": "code",
      "source": [
        "print('Расчет метрик для наивного байесовского классификатора:')\n",
        "print()\n",
        "print()\n",
        "print(classification_report(y_test_le, nb_pred, target_names=['1', '2', '3', '4', '5']))\n"
      ],
      "metadata": {
        "colab": {
          "base_uri": "https://localhost:8080/"
        },
        "id": "wAd05uVNXF-l",
        "outputId": "b208a4fb-c0d9-4f3e-c026-55270574736d"
      },
      "execution_count": null,
      "outputs": [
        {
          "output_type": "stream",
          "name": "stdout",
          "text": [
            "Расчет метрик для наивного байесовского классификатора:\n",
            "\n",
            "\n",
            "              precision    recall  f1-score   support\n",
            "\n",
            "           1       0.54      0.69      0.61      2035\n",
            "           2       0.37      0.42      0.40      1984\n",
            "           3       0.41      0.29      0.34      2007\n",
            "           4       0.50      0.53      0.51      1978\n",
            "           5       0.83      0.66      0.73      1934\n",
            "\n",
            "    accuracy                           0.52      9938\n",
            "   macro avg       0.53      0.52      0.52      9938\n",
            "weighted avg       0.53      0.52      0.52      9938\n",
            "\n"
          ]
        }
      ]
    },
    {
      "cell_type": "code",
      "source": [],
      "metadata": {
        "id": "vBlzjAG1Yk-h"
      },
      "execution_count": null,
      "outputs": []
    },
    {
      "cell_type": "code",
      "source": [],
      "metadata": {
        "id": "k2Xv3_-E3Hmy"
      },
      "execution_count": null,
      "outputs": []
    },
    {
      "cell_type": "markdown",
      "source": [
        "#Модель DeepPavlov\n"
      ],
      "metadata": {
        "id": "x5rZQCGe3Hxg"
      }
    },
    {
      "cell_type": "code",
      "source": [
        "# Загрузка модели в PyTorch\n",
        "from transformers import BertTokenizer, BertModel, TFBertModel\n",
        "import torch\n",
        "bert_model_pt = BertModel.from_pretrained('DeepPavlov/bert-base-bg-cs-pl-ru-cased')"
      ],
      "metadata": {
        "colab": {
          "base_uri": "https://localhost:8080/"
        },
        "id": "Pvk1CBG13Hxh",
        "outputId": "b013992a-ba31-4e5b-ef13-c51cb354cfc1"
      },
      "execution_count": null,
      "outputs": [
        {
          "output_type": "stream",
          "name": "stderr",
          "text": [
            "Some weights of the model checkpoint at DeepPavlov/bert-base-bg-cs-pl-ru-cased were not used when initializing BertModel: ['cls.predictions.bias', 'cls.predictions.decoder.bias', 'cls.predictions.decoder.weight', 'cls.predictions.transform.LayerNorm.bias', 'cls.predictions.transform.LayerNorm.weight', 'cls.predictions.transform.dense.bias', 'cls.predictions.transform.dense.weight', 'cls.seq_relationship.bias', 'cls.seq_relationship.weight']\n",
            "- This IS expected if you are initializing BertModel from the checkpoint of a model trained on another task or with another architecture (e.g. initializing a BertForSequenceClassification model from a BertForPreTraining model).\n",
            "- This IS NOT expected if you are initializing BertModel from the checkpoint of a model that you expect to be exactly identical (initializing a BertForSequenceClassification model from a BertForSequenceClassification model).\n"
          ]
        }
      ]
    },
    {
      "cell_type": "code",
      "source": [
        "# Конвертация модели из PyTorch в TensorFlow\n",
        "bert_model = TFBertModel.from_pretrained('DeepPavlov/bert-base-bg-cs-pl-ru-cased', from_pt=True)"
      ],
      "metadata": {
        "colab": {
          "base_uri": "https://localhost:8080/"
        },
        "id": "j7ZTb5Sb9kuI",
        "outputId": "2ea28492-8263-42f5-e52a-e6cfc12000b9"
      },
      "execution_count": null,
      "outputs": [
        {
          "output_type": "stream",
          "name": "stderr",
          "text": [
            "Some weights of the PyTorch model were not used when initializing the TF 2.0 model TFBertModel: ['cls.seq_relationship.weight', 'cls.predictions.bias', 'cls.predictions.transform.dense.weight', 'cls.predictions.transform.LayerNorm.weight', 'cls.predictions.decoder.weight', 'cls.predictions.transform.dense.bias', 'cls.predictions.decoder.bias', 'bert.embeddings.position_ids', 'cls.seq_relationship.bias', 'cls.predictions.transform.LayerNorm.bias']\n",
            "- This IS expected if you are initializing TFBertModel from a PyTorch model trained on another task or with another architecture (e.g. initializing a TFBertForSequenceClassification model from a BertForPreTraining model).\n",
            "- This IS NOT expected if you are initializing TFBertModel from a PyTorch model that you expect to be exactly identical (e.g. initializing a TFBertForSequenceClassification model from a BertForSequenceClassification model).\n",
            "All the weights of TFBertModel were initialized from the PyTorch model.\n",
            "If your task is similar to the task the model of the checkpoint was trained on, you can already use TFBertModel for predictions without further training.\n"
          ]
        }
      ]
    },
    {
      "cell_type": "code",
      "source": [
        "def tokenize(data, max_len=128):\n",
        "    input_ids = []\n",
        "    attention_masks = []\n",
        "    for i in range(len(data)):\n",
        "        encoded = tokenizer.encode_plus(\n",
        "            data[i],\n",
        "            add_special_tokens=True,\n",
        "            max_length=max_len,\n",
        "            padding='max_length',\n",
        "            truncation=True,\n",
        "            return_attention_mask=True\n",
        "        )\n",
        "        input_ids.append(encoded['input_ids'])\n",
        "        attention_masks.append(encoded['attention_mask'])\n",
        "    return np.array(input_ids), np.array(attention_masks)\n",
        "\n",
        "train_input_ids, train_attention_masks = tokenize(X_train)\n",
        "val_input_ids, val_attention_masks = tokenize(X_valid)\n",
        "test_input_ids, test_attention_masks = tokenize(X_test)"
      ],
      "metadata": {
        "id": "U41wA22k4F9Q"
      },
      "execution_count": null,
      "outputs": []
    },
    {
      "cell_type": "code",
      "source": [
        "def create_model_deeppavlov(bert_model, max_len=128):\n",
        "    # Параметры обучения\n",
        "    opt = tf.keras.optimizers.legacy.Adam(learning_rate=1e-5, decay=1e-7) # оптимизатор - Adam\n",
        "    loss = tf.keras.losses.CategoricalCrossentropy()                      # функция потерь - категориальная кросс-энтропия\n",
        "    accuracy = tf.keras.metrics.CategoricalAccuracy()                     # метрика - категориальная точность\n",
        "\n",
        "    input_ids = tf.keras.Input(shape=(max_len,), dtype='int32')         # вход для токенизированной последовательности\n",
        "    attention_masks = tf.keras.Input(shape=(max_len,), dtype='int32')   # маска\n",
        "\n",
        "    embeddings = bert_model([input_ids, attention_masks])[1]            # BERT-модель\n",
        "\n",
        "    output = tf.keras.layers.Dense(5, activation=\"softmax\")(embeddings) # полносвязный слой для классификации OHE (5 нейронов - 5 класса)\n",
        "\n",
        "    model = tf.keras.models.Model(inputs = [input_ids, attention_masks], outputs = output)\n",
        "\n",
        "    model.compile(opt, loss=loss, metrics=accuracy)\n",
        "\n",
        "    return model\n",
        "\n",
        "model = create_model_deeppavlov(bert_model)\n",
        "model.summary()"
      ],
      "metadata": {
        "colab": {
          "base_uri": "https://localhost:8080/"
        },
        "id": "AtxCYHdJ4Hoz",
        "outputId": "e5de1aaa-65b8-47c3-cfa9-c7b4cfb05938"
      },
      "execution_count": null,
      "outputs": [
        {
          "output_type": "stream",
          "name": "stdout",
          "text": [
            "Model: \"model_1\"\n",
            "__________________________________________________________________________________________________\n",
            " Layer (type)                Output Shape                 Param #   Connected to                  \n",
            "==================================================================================================\n",
            " input_3 (InputLayer)        [(None, 128)]                0         []                            \n",
            "                                                                                                  \n",
            " input_4 (InputLayer)        [(None, 128)]                0         []                            \n",
            "                                                                                                  \n",
            " tf_bert_model_1 (TFBertMod  TFBaseModelOutputWithPooli   1778534   ['input_3[0][0]',             \n",
            " el)                         ngAndCrossAttentions(last_   40         'input_4[0][0]']             \n",
            "                             hidden_state=(None, 128, 7                                           \n",
            "                             68),                                                                 \n",
            "                              pooler_output=(None, 768)                                           \n",
            "                             , past_key_values=None, hi                                           \n",
            "                             dden_states=None, attentio                                           \n",
            "                             ns=None, cross_attentions=                                           \n",
            "                             None)                                                                \n",
            "                                                                                                  \n",
            " dense_1 (Dense)             (None, 5)                    3845      ['tf_bert_model_1[0][1]']     \n",
            "                                                                                                  \n",
            "==================================================================================================\n",
            "Total params: 177857285 (678.47 MB)\n",
            "Trainable params: 177857285 (678.47 MB)\n",
            "Non-trainable params: 0 (0.00 Byte)\n",
            "__________________________________________________________________________________________________\n"
          ]
        }
      ]
    },
    {
      "cell_type": "code",
      "source": [
        "history_bert = model.fit([train_input_ids, train_attention_masks], y_train, validation_data=([val_input_ids, val_attention_masks], y_valid), epochs=4, batch_size=64)"
      ],
      "metadata": {
        "colab": {
          "base_uri": "https://localhost:8080/"
        },
        "id": "NUY0dli-4KnJ",
        "outputId": "40d54e87-8e08-4d9e-af33-5632323c9bb7"
      },
      "execution_count": null,
      "outputs": [
        {
          "output_type": "stream",
          "name": "stdout",
          "text": [
            "Epoch 1/4\n",
            "562/562 [==============================] - 943s 2s/step - loss: 1.1389 - categorical_accuracy: 0.5034 - val_loss: 1.0321 - val_categorical_accuracy: 0.5652\n",
            "Epoch 2/4\n",
            "562/562 [==============================] - 930s 2s/step - loss: 0.9846 - categorical_accuracy: 0.5752 - val_loss: 1.0436 - val_categorical_accuracy: 0.5590\n",
            "Epoch 3/4\n",
            "562/562 [==============================] - 923s 2s/step - loss: 0.9140 - categorical_accuracy: 0.6092 - val_loss: 1.0502 - val_categorical_accuracy: 0.5585\n",
            "Epoch 4/4\n",
            "562/562 [==============================] - 923s 2s/step - loss: 0.8416 - categorical_accuracy: 0.6463 - val_loss: 1.0512 - val_categorical_accuracy: 0.5765\n"
          ]
        }
      ]
    },
    {
      "cell_type": "code",
      "source": [
        "result_bert = model.predict([test_input_ids, test_attention_masks])\n",
        "\n",
        "y_pred_bert = np.zeros_like(result_bert)\n",
        "y_pred_bert[np.arange(len(y_pred_bert)), result_bert.argmax(1)] = 1\n",
        "\n",
        "conf_matrix(y_test.argmax(1), y_pred_bert.argmax(1), 'Матрица ошибок для BERT классификации')\n",
        "\n",
        "print('Расчет метрик для BERT классификатора:')\n",
        "print()\n",
        "print()\n",
        "print(classification_report(y_test, y_pred_bert, target_names=['1', '2', '3', '4', '5']))"
      ],
      "metadata": {
        "colab": {
          "base_uri": "https://localhost:8080/",
          "height": 801
        },
        "id": "nabs_Zj64My0",
        "outputId": "9d24df52-5908-48d8-82c8-748711945a1b"
      },
      "execution_count": null,
      "outputs": [
        {
          "output_type": "stream",
          "name": "stdout",
          "text": [
            "311/311 [==============================] - 88s 273ms/step\n"
          ]
        },
        {
          "output_type": "display_data",
          "data": {
            "text/plain": [
              "<Figure size 500x500 with 1 Axes>"
            ],
            "image/png": "[encoded data removed]"
          },
          "metadata": {}
        },
        {
          "output_type": "stream",
          "name": "stdout",
          "text": [
            "Расчет метрик для BERT классификатора:\n",
            "\n",
            "\n",
            "              precision    recall  f1-score   support\n",
            "\n",
            "           1       0.69      0.56      0.62      2035\n",
            "           2       0.41      0.48      0.44      1984\n",
            "           3       0.46      0.40      0.43      2007\n",
            "           4       0.55      0.62      0.58      1978\n",
            "           5       0.80      0.83      0.82      1934\n",
            "\n",
            "   micro avg       0.58      0.58      0.58      9938\n",
            "   macro avg       0.58      0.58      0.58      9938\n",
            "weighted avg       0.58      0.58      0.58      9938\n",
            " samples avg       0.58      0.58      0.58      9938\n",
            "\n"
          ]
        }
      ]
    },
    {
      "cell_type": "code",
      "source": [
        "# Предсказания на тестовой выборке\n",
        "result_bert = model.predict([test_input_ids, test_attention_masks])\n",
        "y_pred_bert = np.argmax(result_bert, axis=1)\n",
        "\n",
        "# Выведем примеры предсказаний\n",
        "for i in range(5):\n",
        "    print(f\"Текст: {df_test['text_clean'].iloc[i]}\")\n",
        "    print(f\"Истинный рейтинг: {y_pred_bert[i]}\")\n",
        "    print(f\"Предсказанный рейтинг: {y_pred_bert[i]}\")\n",
        "    print(\"---\")"
      ],
      "metadata": {
        "id": "cwlpHDmq4OqR",
        "colab": {
          "base_uri": "https://localhost:8080/"
        },
        "outputId": "926d77f3-09e4-4e7a-d3c4-44cf55201d99"
      },
      "execution_count": null,
      "outputs": [
        {
          "output_type": "stream",
          "name": "stdout",
          "text": [
            "311/311 [==============================] - 86s 277ms/step\n",
            "Текст: замечательный врач всё хорошо объясняет не пугает ещё хочу отметить работу узиста айдара ильдусовича впечатление осталось хорошее но надеюсь больше не посещать таких мест надеюсь все поняли о чём яnлечащий врач закирова гузалия\n",
            "Истинный рейтинг: 4\n",
            "Предсказанный рейтинг: 4\n",
            "---\n",
            "Текст: ну так себе персонал работает лучше в другой магазин сходить \n",
            "Истинный рейтинг: 2\n",
            "Предсказанный рейтинг: 2\n",
            "---\n",
            "Текст: заказал краску для внутренних работ с доставкой при заказе в комментариях указал цвет коллера для краски краску то привезли но белую принять соответственно отказался леруа сожрало деньги за холостую доставку удержало деньги за саму краску к и ни ответа ни привета создали обращение ждите сколько неизвестно в итоге объект стоит рабочие стоят менеджеры с леруа бездействуют однозначно не рекомендую доставку с этого магазина \n",
            "Истинный рейтинг: 1\n",
            "Предсказанный рейтинг: 0\n",
            "---\n",
            "Текст: качество шиномонтажа зависит от настроения мастера цены выше средних такое себе место\n",
            "Истинный рейтинг: 1\n",
            "Предсказанный рейтинг: 1\n",
            "---\n",
            "Текст: выбор большой подходящих вещейкоторые я постоянно покупаю для себя и своей семьиперсонал вежливый в магазине чистота и порядок\n",
            "Истинный рейтинг: 3\n",
            "Предсказанный рейтинг: 4\n",
            "---\n"
          ]
        }
      ]
    }
  ],
  "metadata": {
    "colab": {
      "provenance": [],
      "gpuType": "T4",
      "include_colab_link": true
    },
    "kernelspec": {
      "display_name": "Python 3",
      "name": "python3"
    },
    "language_info": {
      "name": "python"
    },
    "accelerator": "GPU"
  },
  "nbformat": 4,
  "nbformat_minor": 0
}